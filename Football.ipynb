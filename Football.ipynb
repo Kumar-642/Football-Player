{
  "nbformat": 4,
  "nbformat_minor": 0,
  "metadata": {
    "colab": {
      "provenance": [],
      "include_colab_link": true
    },
    "kernelspec": {
      "name": "python3",
      "display_name": "Python 3"
    },
    "language_info": {
      "name": "python"
    }
  },
  "cells": [
    {
      "cell_type": "markdown",
      "metadata": {
        "id": "view-in-github",
        "colab_type": "text"
      },
      "source": [
        "<a href=\"https://colab.research.google.com/github/Kumar-642/Football-Player/blob/main/Football.ipynb\" target=\"_parent\"><img src=\"https://colab.research.google.com/assets/colab-badge.svg\" alt=\"Open In Colab\"/></a>"
      ]
    },
    {
      "cell_type": "markdown",
      "source": [
        "# Web Sscrapping\n",
        "\n",
        "## Extracting Data of Each Player of Manchaster City"
      ],
      "metadata": {
        "id": "gjLRhqnSlUi6"
      }
    },
    {
      "cell_type": "code",
      "execution_count": null,
      "metadata": {
        "id": "N3Jl3ijxT4Yn"
      },
      "outputs": [],
      "source": [
        "import requests\n",
        "from bs4 import BeautifulSoup as bs\n",
        "import pandas as pd"
      ]
    },
    {
      "cell_type": "markdown",
      "source": [
        "Defenders of Manchester City:\n",
        "      \n",
        "       > Rodri  : https://fbref.com/en/players/6434f10d/all_comps/Rodri-Stats---All-Competitions\n",
        "       > Manuel Akhanji : https://fbref.com/en/players/89ac64a6/all_comps/Manuel-Akanji-Stats---All-Competitions\n",
        "       > Ruben Dias : https://fbref.com/en/players/31c69ef1/all_comps/Ruben-Dias-Stats---All-Competitions\n",
        "       > Nathan Ake : https://fbref.com/en/players/eaeca114/all_comps/Nathan-Ake-Stats---All-Competitions\n",
        "       > Kyle Walker : https://fbref.com/en/players/86dd77d1/all_comps/Kyle-Walker-Stats---All-Competitions\n",
        "       > John Stones : https://fbref.com/en/players/5eecec3d/all_comps/John-Stones-Stats---All-Competitions\n",
        "       > Aymeric Laporte : https://fbref.com/en/players/119b9a8e/all_comps/Aymeric-Laporte-Stats---All-Competitions\n",
        "       > Rico Lewis : https://fbref.com/en/players/b57e066e/all_comps/Rico-Lewis-Stats---All-Competitions\n",
        "       > Sergio Gomez : https://fbref.com/en/players/01e5f06e/all_comps/Sergio-Gomez-Stats---All-Competitions\n",
        "       > Kalvin Phillips : https://fbref.com/en/players/4f565d77/all_comps/Kalvin-Phillips-Stats---All-Competitions\n",
        "       > Josh Wilson Esbrand : https://fbref.com/en/players/c19a2df1/all_comps/Josh-Wilson-Esbrand-Stats---All-Competitions\n",
        "       > Luke Mbete Tatu : https://fbref.com/en/players/387e1d35/all_comps/Luke-Mbete-Tatu-Stats---All-Competitions\n",
        "       > Joao Cancelo : https://fbref.com/en/players/bd6351cd/all_comps/Joao-Cancelo-Stats---All-Competitions\n"
      ],
      "metadata": {
        "id": "u41oFq_En_Yd"
      }
    },
    {
      "cell_type": "code",
      "source": [
        "Defender_Player = {'Rodri'  : 'https://fbref.com/en/players/6434f10d/all_comps/Rodri-Stats---All-Competitions',\n",
        "        'Manuel Akhanji' : 'https://fbref.com/en/players/89ac64a6/all_comps/Manuel-Akanji-Stats---All-Competitions',\n",
        "        'Ruben Dias' : 'https://fbref.com/en/players/31c69ef1/all_comps/Ruben-Dias-Stats---All-Competitions',\n",
        "        'Nathan Ake' : 'https://fbref.com/en/players/eaeca114/all_comps/Nathan-Ake-Stats---All-Competitions',\n",
        "        'Kyle Walker' : 'https://fbref.com/en/players/86dd77d1/all_comps/Kyle-Walker-Stats---All-Competitions',\n",
        "        'John Stones' : 'https://fbref.com/en/players/5eecec3d/all_comps/John-Stones-Stats---All-Competitions',\n",
        "        'Joao Cancelo' : 'https://fbref.com/en/players/bd6351cd/all_comps/Joao-Cancelo-Stats---All-Competitions',\n",
        "        'Aymeric Laporte' : 'https://fbref.com/en/players/119b9a8e/all_comps/Aymeric-Laporte-Stats---All-Competitions',\n",
        "        'Rico Lewis' : 'https://fbref.com/en/players/b57e066e/all_comps/Rico-Lewis-Stats---All-Competitions',\n",
        "        'Sergio Gomez' : 'https://fbref.com/en/players/01e5f06e/all_comps/Sergio-Gomez-Stats---All-Competitions',\n",
        "        'Kalvin Phillips' : 'https://fbref.com/en/players/4f565d77/all_comps/Kalvin-Phillips-Stats---All-Competitions',\n",
        "        'Josh Wilson Esbrand' : 'https://fbref.com/en/players/c19a2df1/all_comps/Josh-Wilson-Esbrand-Stats---All-Competitions',\n",
        "        'Luke Mbete Tatu' : 'https://fbref.com/en/players/387e1d35/all_comps/Luke-Mbete-Tatu-Stats---All-Competitions'\n",
        "}\n"
      ],
      "metadata": {
        "id": "SjF0Tv31uiUt"
      },
      "execution_count": null,
      "outputs": []
    },
    {
      "cell_type": "code",
      "source": [
        "def Stats_of_Player(link):\n",
        "#r = requests.get(\"https://fbref.com/en/players/6434f10d/all_comps/Rodri-Stats---All-Competitions\")\n",
        "    r = requests.get(link)\n",
        "    soup = bs(r.content)\n",
        "    contents = soup.prettify()\n",
        "    title_50 = soup.find(\"tbody\")\n",
        "    rank_50 = title_50.find_all(id='stats')\n",
        "    rank_50 = title_50.find_all('td')\n",
        "    l = []\n",
        "    s = title_50.find_all(class_='center')\n",
        "    for row in rank_50 :\n",
        "      n1 = row.text.strip()\n",
        "      l.append(n1)\n",
        "    Age = []\n",
        "    Squad = []\n",
        "    Matched_Play = []\n",
        "    Minutes = []\n",
        "    Goals = []\n",
        "    Assist = []\n",
        "    Goals_Assists = []\n",
        "    Non_Penality_Goals =[]\n",
        "    Yellow_Card = []\n",
        "    Red_Card = []\n",
        "    for i in range(len(l)//34):\n",
        "      Age.append(l[(34*i)])\n",
        "      Squad.append(l[(34*i)+1])\n",
        "      Matched_Play.append(l[(34*i)+4])\n",
        "      Minutes.append(l[34*i+6])\n",
        "      Goals.append(l[34*i+8])\n",
        "      Assist.append(l[34*i+9])\n",
        "      Goals_Assists.append(l[34*i+10])\n",
        "      Non_Penality_Goals.append(l[34*i+11])\n",
        "      Yellow_Card.append(l[34*i+13])\n",
        "      Red_Card.append(l[34*i+14])\n",
        "    data = pd.DataFrame({'Age':Age,'Squad':Squad,'Matched_Play':Matched_Play,'Minutes':Minutes,'Goals':Goals,'Assist':Assist,'Goals_Assist':Goals_Assists,'Non_Penality_Goals':Non_Penality_Goals,'Yellow_Card':Yellow_Card,'Red_Card':Red_Card})\n",
        "    return data"
      ],
      "metadata": {
        "id": "fPxH8WmKUVk4"
      },
      "execution_count": null,
      "outputs": []
    },
    {
      "cell_type": "code",
      "source": [
        "def Stats_of_Pl(link,numb):\n",
        "#r = requests.get(\"https://fbref.com/en/players/6434f10d/all_comps/Rodri-Stats---All-Competitions\")\n",
        "    r = requests.get(link)\n",
        "    soup = bs(r.content)\n",
        "    contents = soup.prettify()\n",
        "    title_50 = soup.find(id=\"content\")\n",
        "    rank_50 = title_50.find(id=\"switcher_stats_standard\")\n",
        "    rank = rank_50.find_all(id=\"stats\")\n",
        "    rankk_50 = rank_50.find_all('td')\n",
        "    s = title_50.find_all(class_='center')\n",
        "    l = []\n",
        "    for row in rankk_50 :\n",
        "      n1 = row.text.strip()\n",
        "      l.append(n1)\n",
        "    Age = []\n",
        "    Squad = []\n",
        "    Matched_Play = []\n",
        "    Minutes = []\n",
        "    Goals = []\n",
        "    Assist = []\n",
        "    Goals_Assists = []\n",
        "    Non_Penality_Goals =[]\n",
        "    Yellow_Card = []\n",
        "    Red_Card = []\n",
        "    for i in range(len(l)//34):\n",
        "      Age.append(l[(34*i)])\n",
        "      Squad.append(l[(34*i)+1])\n",
        "      Matched_Play.append(l[(34*i)+4])\n",
        "      Minutes.append(l[34*i+6])\n",
        "      Goals.append(l[34*i+8])\n",
        "      Assist.append(l[34*i+9])\n",
        "      Goals_Assists.append(l[34*i+10])\n",
        "      Non_Penality_Goals.append(l[34*i+11])\n",
        "      Yellow_Card.append(l[34*i+13])\n",
        "      Red_Card.append(l[34*i+14])\n",
        "    row = numb\n",
        "    data = pd.DataFrame({'Age':Age[:row],'Squad':Squad[:row],'Matched_Play':Matched_Play[:row],'Minutes':Minutes[:row],'Goals':Goals[:row],'Assist':Assist[:row],'Goals_Assist':Goals_Assists[:row],'Non_Penality_Goals':Non_Penality_Goals[:row],'Yellow_Card':Yellow_Card[:row],'Red_Card':Red_Card[:row]})\n",
        "    return data"
      ],
      "metadata": {
        "id": "7qYWCRiFUkns"
      },
      "execution_count": null,
      "outputs": []
    },
    {
      "cell_type": "markdown",
      "source": [
        "## 1. Rodri"
      ],
      "metadata": {
        "id": "wd2CGVoLpoyK"
      }
    },
    {
      "cell_type": "code",
      "source": [
        "data1 = Stats_of_Player(Defender_Player['Rodri']);"
      ],
      "metadata": {
        "id": "dg1C1e7CptdZ"
      },
      "execution_count": null,
      "outputs": []
    },
    {
      "cell_type": "markdown",
      "source": [
        "## 2. Manuel Akhanji"
      ],
      "metadata": {
        "id": "ssiE9YyWp9Hr"
      }
    },
    {
      "cell_type": "code",
      "source": [
        "data2 = Stats_of_Pl(\"https://fbref.com/en/players/89ac64a6/all_comps/Manuel-Akanji-Stats---All-Competitions\",26);"
      ],
      "metadata": {
        "id": "YkbHNKRKmWly"
      },
      "execution_count": null,
      "outputs": []
    },
    {
      "cell_type": "markdown",
      "source": [
        "## 3. Ruben Dias"
      ],
      "metadata": {
        "id": "wNpHIWbmxtO_"
      }
    },
    {
      "cell_type": "code",
      "source": [
        "\n",
        "data3 = Stats_of_Player(Defender_Player['Ruben Dias']);"
      ],
      "metadata": {
        "id": "HEhRz6duxYu0"
      },
      "execution_count": null,
      "outputs": []
    },
    {
      "cell_type": "markdown",
      "source": [
        "## 4. Nathan Ake"
      ],
      "metadata": {
        "id": "a_v8hAikx7cl"
      }
    },
    {
      "cell_type": "code",
      "source": [
        "data4 = Stats_of_Pl(\"https://fbref.com/en/players/eaeca114/all_comps/Nathan-Ake-Stats---All-Competitions\",38);\n"
      ],
      "metadata": {
        "id": "kINT8wxnxsc_"
      },
      "execution_count": null,
      "outputs": []
    },
    {
      "cell_type": "markdown",
      "source": [
        "## 5. Kyle Walker"
      ],
      "metadata": {
        "id": "JQGpMMH3llfg"
      }
    },
    {
      "cell_type": "code",
      "source": [
        "data5 =Stats_of_Pl('https://fbref.com/en/players/86dd77d1/all_comps/Kyle-Walker-Stats---All-Competitions',51);"
      ],
      "metadata": {
        "id": "JsaOzgTpykFf"
      },
      "execution_count": null,
      "outputs": []
    },
    {
      "cell_type": "markdown",
      "source": [
        "## 6. John Stones"
      ],
      "metadata": {
        "id": "L0sbgG1gzq1z"
      }
    },
    {
      "cell_type": "code",
      "source": [
        "data6 = Stats_of_Pl('https://fbref.com/en/players/5eecec3d/all_comps/John-Stones-Stats---All-Competitions',40);"
      ],
      "metadata": {
        "id": "aBwb9LSzzko9"
      },
      "execution_count": null,
      "outputs": []
    },
    {
      "cell_type": "markdown",
      "source": [
        "## 7.Aymeric Laporte"
      ],
      "metadata": {
        "id": "-oc2X3jIQ8ej"
      }
    },
    {
      "cell_type": "code",
      "source": [
        "data7 = Stats_of_Pl('https://fbref.com/en/players/119b9a8e/all_comps/Aymeric-Laporte-Stats---All-Competitions',39);\n"
      ],
      "metadata": {
        "id": "nisH2K--Pnfo"
      },
      "execution_count": null,
      "outputs": []
    },
    {
      "cell_type": "markdown",
      "source": [
        "## 8. Rico Lewis"
      ],
      "metadata": {
        "id": "WVV0UY60RyEf"
      }
    },
    {
      "cell_type": "code",
      "source": [
        "data8 = Stats_of_Pl('https://fbref.com/en/players/b57e066e/all_comps/Rico-Lewis-Stats---All-Competitions',6);"
      ],
      "metadata": {
        "id": "yX0o8f6IR3aK"
      },
      "execution_count": null,
      "outputs": []
    },
    {
      "cell_type": "markdown",
      "source": [
        "## 9.Sergio Gomez"
      ],
      "metadata": {
        "id": "9ue4-DfWSLMS"
      }
    },
    {
      "cell_type": "code",
      "source": [
        "data9 = Stats_of_Pl('https://fbref.com/en/players/01e5f06e/all_comps/Sergio-Gomez-Stats---All-Competitions',14);"
      ],
      "metadata": {
        "id": "aAREbqABSKq_"
      },
      "execution_count": null,
      "outputs": []
    },
    {
      "cell_type": "markdown",
      "source": [
        "## 10. Kalvin Phillips"
      ],
      "metadata": {
        "id": "uFqbqSW9Ss9x"
      }
    },
    {
      "cell_type": "code",
      "source": [
        "data10 = Stats_of_Pl('https://fbref.com/en/players/4f565d77/all_comps/Kalvin-Phillips-Stats---All-Competitions',14);"
      ],
      "metadata": {
        "id": "aRimsMOXSn_S"
      },
      "execution_count": null,
      "outputs": []
    },
    {
      "cell_type": "markdown",
      "source": [
        "## 11.Josh Wilson Esbrand"
      ],
      "metadata": {
        "id": "r0Kq1NGATKVK"
      }
    },
    {
      "cell_type": "code",
      "source": [
        "data11 = Stats_of_Pl('https://fbref.com/en/players/c19a2df1/all_comps/Josh-Wilson-Esbrand-Stats---All-Competitions',11);"
      ],
      "metadata": {
        "id": "yFPeJ8ybTKDL"
      },
      "execution_count": null,
      "outputs": []
    },
    {
      "cell_type": "markdown",
      "source": [
        "## 12.Luke Mbete Tatu"
      ],
      "metadata": {
        "id": "FYSE8JAOTxQS"
      }
    },
    {
      "cell_type": "code",
      "source": [
        "data12 = Stats_of_Pl('https://fbref.com/en/players/387e1d35/all_comps/Luke-Mbete-Tatu-Stats---All-Competitions',14);"
      ],
      "metadata": {
        "id": "CHPaI87hTrZz"
      },
      "execution_count": null,
      "outputs": []
    },
    {
      "cell_type": "markdown",
      "source": [
        "## 13. Joao Cancelo"
      ],
      "metadata": {
        "id": "iAy1inoScgkH"
      }
    },
    {
      "cell_type": "code",
      "source": [
        "data13 = Stats_of_Pl('https://fbref.com/en/players/bd6351cd/all_comps/Joao-Cancelo-Stats---All-Competitions',37);"
      ],
      "metadata": {
        "id": "oF4rEyppck9W"
      },
      "execution_count": null,
      "outputs": []
    },
    {
      "cell_type": "markdown",
      "source": [
        "### Statistical Summary of Manchester Defenders"
      ],
      "metadata": {
        "id": "QH5HBYWdWpOa"
      }
    },
    {
      "cell_type": "code",
      "source": [
        "def Data(df):\n",
        "    df =df.mask(df == '')\n",
        "    df = df.fillna(0)\n",
        "    df['Minutes'] = df['Minutes'].str.replace(r',','')\n",
        "    df = df.fillna(0)\n",
        "    df[['Age', 'Matched_Play']] = df[['Age', 'Matched_Play']].astype(str).astype(int)\n",
        "    df['Minutes'] = df['Minutes'].astype(str).astype(int)\n",
        "    converting = {'Age':int,'Squad':str,'Matched_Play':int,'Minutes':int,'Goals':int,'Assist':int,'Goals_Assist':int,'Non_Penality_Goals':int,'Yellow_Card':int,'Red_Card':int}\n",
        "    df = df.astype(converting)\n",
        "    Player = df.drop(['Squad','Age'],axis=1)\n",
        "    return Player"
      ],
      "metadata": {
        "id": "qwac9TSk2_VI"
      },
      "execution_count": null,
      "outputs": []
    },
    {
      "cell_type": "code",
      "source": [
        "Player1 = Data(data1)\n",
        "Player1.sum(axis=0)"
      ],
      "metadata": {
        "colab": {
          "base_uri": "https://localhost:8080/"
        },
        "id": "GKj-F9EuWo5o",
        "outputId": "62e1dacb-270e-45b6-bf58-3718bb5e6155"
      },
      "execution_count": null,
      "outputs": [
        {
          "output_type": "execute_result",
          "data": {
            "text/plain": [
              "Matched_Play            336\n",
              "Minutes               25195\n",
              "Goals                    21\n",
              "Assist                   22\n",
              "Goals_Assist             43\n",
              "Non_Penality_Goals       20\n",
              "Yellow_Card               1\n",
              "Red_Card                 53\n",
              "dtype: int64"
            ]
          },
          "metadata": {},
          "execution_count": 19
        }
      ]
    },
    {
      "cell_type": "code",
      "source": [
        "Player2 = Data(data2)\n",
        "Player2.sum(axis=0)"
      ],
      "metadata": {
        "id": "58EiYxO647MO",
        "colab": {
          "base_uri": "https://localhost:8080/"
        },
        "outputId": "76e1e44b-5e76-45d0-fbf8-e9434777c083"
      },
      "execution_count": null,
      "outputs": [
        {
          "output_type": "execute_result",
          "data": {
            "text/plain": [
              "Matched_Play            253\n",
              "Minutes               21157\n",
              "Goals                    10\n",
              "Assist                    5\n",
              "Goals_Assist             15\n",
              "Non_Penality_Goals       10\n",
              "Yellow_Card               0\n",
              "Red_Card                 25\n",
              "dtype: int64"
            ]
          },
          "metadata": {},
          "execution_count": 20
        }
      ]
    },
    {
      "cell_type": "code",
      "source": [
        "Player3 = Data(data3)\n",
        "Player3.sum(axis=0)"
      ],
      "metadata": {
        "colab": {
          "base_uri": "https://localhost:8080/"
        },
        "id": "6cG71NZiC8dv",
        "outputId": "aa1b371a-6627-455a-9566-9379ae2a801a"
      },
      "execution_count": null,
      "outputs": [
        {
          "output_type": "execute_result",
          "data": {
            "text/plain": [
              "Matched_Play            243\n",
              "Minutes               20950\n",
              "Goals                    15\n",
              "Assist                    8\n",
              "Goals_Assist             23\n",
              "Non_Penality_Goals       15\n",
              "Yellow_Card               0\n",
              "Red_Card                 43\n",
              "dtype: int64"
            ]
          },
          "metadata": {},
          "execution_count": 21
        }
      ]
    },
    {
      "cell_type": "code",
      "source": [
        "Player4 = Data(data4)\n",
        "Player4.sum(axis=0)"
      ],
      "metadata": {
        "colab": {
          "base_uri": "https://localhost:8080/"
        },
        "id": "XE6nUqwIEo7T",
        "outputId": "9f12e2a4-bae5-46a5-d9a8-ebfc04c078f7"
      },
      "execution_count": null,
      "outputs": [
        {
          "output_type": "execute_result",
          "data": {
            "text/plain": [
              "Matched_Play            249\n",
              "Minutes               19552\n",
              "Goals                    19\n",
              "Assist                    7\n",
              "Goals_Assist             26\n",
              "Non_Penality_Goals       19\n",
              "Yellow_Card               0\n",
              "Red_Card                 25\n",
              "dtype: int64"
            ]
          },
          "metadata": {},
          "execution_count": 22
        }
      ]
    },
    {
      "cell_type": "code",
      "source": [
        "Player5 = Data(data5)\n",
        "Player5.sum(axis=0)"
      ],
      "metadata": {
        "colab": {
          "base_uri": "https://localhost:8080/"
        },
        "id": "OJNYiGRREru_",
        "outputId": "f2d36e94-e862-4c59-bf6a-3c634a8b279f"
      },
      "execution_count": null,
      "outputs": [
        {
          "output_type": "execute_result",
          "data": {
            "text/plain": [
              "Matched_Play            538\n",
              "Minutes               45244\n",
              "Goals                    11\n",
              "Assist                   40\n",
              "Goals_Assist             51\n",
              "Non_Penality_Goals       11\n",
              "Yellow_Card               0\n",
              "Red_Card                 77\n",
              "dtype: int64"
            ]
          },
          "metadata": {},
          "execution_count": 23
        }
      ]
    },
    {
      "cell_type": "code",
      "source": [
        "Player6 = Data(data6)\n",
        "Player6.sum(axis=0)"
      ],
      "metadata": {
        "colab": {
          "base_uri": "https://localhost:8080/"
        },
        "id": "kt0taBkbE0nd",
        "outputId": "69a05b6a-aead-44f7-fa0f-28a68bd7d7f3"
      },
      "execution_count": null,
      "outputs": [
        {
          "output_type": "execute_result",
          "data": {
            "text/plain": [
              "Matched_Play            339\n",
              "Minutes               26303\n",
              "Goals                    16\n",
              "Assist                    5\n",
              "Goals_Assist             21\n",
              "Non_Penality_Goals       16\n",
              "Yellow_Card               0\n",
              "Red_Card                 12\n",
              "dtype: int64"
            ]
          },
          "metadata": {},
          "execution_count": 24
        }
      ]
    },
    {
      "cell_type": "code",
      "source": [
        "Player7 = Data(data7)\n",
        "Player7.sum(axis=0)"
      ],
      "metadata": {
        "colab": {
          "base_uri": "https://localhost:8080/"
        },
        "id": "jy7asU3gFBz-",
        "outputId": "f20339e9-f14a-4962-fdd3-3e8e95c07164"
      },
      "execution_count": null,
      "outputs": [
        {
          "output_type": "execute_result",
          "data": {
            "text/plain": [
              "Matched_Play            372\n",
              "Minutes               31757\n",
              "Goals                    21\n",
              "Assist                    6\n",
              "Goals_Assist             27\n",
              "Non_Penality_Goals       21\n",
              "Yellow_Card               0\n",
              "Red_Card                 77\n",
              "dtype: int64"
            ]
          },
          "metadata": {},
          "execution_count": 25
        }
      ]
    },
    {
      "cell_type": "code",
      "source": [
        "Player8 = Data(data8)\n",
        "Player8.sum(axis=0)"
      ],
      "metadata": {
        "colab": {
          "base_uri": "https://localhost:8080/"
        },
        "id": "qbsVenYxFGv4",
        "outputId": "f6e4a873-8114-4cf5-dffd-fac86eec6e73"
      },
      "execution_count": null,
      "outputs": [
        {
          "output_type": "execute_result",
          "data": {
            "text/plain": [
              "Matched_Play            31\n",
              "Minutes               1921\n",
              "Goals                    2\n",
              "Assist                   2\n",
              "Goals_Assist             4\n",
              "Non_Penality_Goals       2\n",
              "Yellow_Card              0\n",
              "Red_Card                 1\n",
              "dtype: int64"
            ]
          },
          "metadata": {},
          "execution_count": 26
        }
      ]
    },
    {
      "cell_type": "code",
      "source": [
        "Player9 = Data(data9)\n",
        "Player9.sum(axis=0)"
      ],
      "metadata": {
        "colab": {
          "base_uri": "https://localhost:8080/"
        },
        "id": "bZHFq_eHFKYZ",
        "outputId": "f5fcfa99-2310-4682-b0af-0496f15c66da"
      },
      "execution_count": null,
      "outputs": [
        {
          "output_type": "execute_result",
          "data": {
            "text/plain": [
              "Matched_Play           134\n",
              "Minutes               7217\n",
              "Goals                    6\n",
              "Assist                  17\n",
              "Goals_Assist            23\n",
              "Non_Penality_Goals       3\n",
              "Yellow_Card              3\n",
              "Red_Card                 6\n",
              "dtype: int64"
            ]
          },
          "metadata": {},
          "execution_count": 27
        }
      ]
    },
    {
      "cell_type": "code",
      "source": [
        "Player10 = Data(data10)\n",
        "Player10.sum(axis=0)"
      ],
      "metadata": {
        "colab": {
          "base_uri": "https://localhost:8080/"
        },
        "id": "_Yhe06kzFPjJ",
        "outputId": "5c0fd6b6-5844-4f60-83d1-88cc0bce1947"
      },
      "execution_count": null,
      "outputs": [
        {
          "output_type": "execute_result",
          "data": {
            "text/plain": [
              "Matched_Play            176\n",
              "Minutes               13397\n",
              "Goals                    12\n",
              "Assist                    9\n",
              "Goals_Assist             21\n",
              "Non_Penality_Goals       12\n",
              "Yellow_Card               0\n",
              "Red_Card                 39\n",
              "dtype: int64"
            ]
          },
          "metadata": {},
          "execution_count": 28
        }
      ]
    },
    {
      "cell_type": "code",
      "source": [
        "Player11 = Data(data11)\n",
        "Player11.sum(axis=0)"
      ],
      "metadata": {
        "colab": {
          "base_uri": "https://localhost:8080/"
        },
        "id": "cTRAtfY9FV9l",
        "outputId": "a45fe957-212e-4942-bfa9-a1a6eb980f83"
      },
      "execution_count": null,
      "outputs": [
        {
          "output_type": "execute_result",
          "data": {
            "text/plain": [
              "Matched_Play            40\n",
              "Minutes               2417\n",
              "Goals                    1\n",
              "Assist                   3\n",
              "Goals_Assist             4\n",
              "Non_Penality_Goals       1\n",
              "Yellow_Card              0\n",
              "Red_Card                 5\n",
              "dtype: int64"
            ]
          },
          "metadata": {},
          "execution_count": 29
        }
      ]
    },
    {
      "cell_type": "code",
      "source": [
        "Player12 = Data(data12)\n",
        "Player12.sum(axis=0)"
      ],
      "metadata": {
        "colab": {
          "base_uri": "https://localhost:8080/"
        },
        "id": "MHYAzxx4Fe7g",
        "outputId": "cae17280-5a42-4875-d4ae-f551ed1bd2bb"
      },
      "execution_count": null,
      "outputs": [
        {
          "output_type": "execute_result",
          "data": {
            "text/plain": [
              "Matched_Play            49\n",
              "Minutes               3632\n",
              "Goals                    1\n",
              "Assist                   1\n",
              "Goals_Assist             2\n",
              "Non_Penality_Goals       1\n",
              "Yellow_Card              0\n",
              "Red_Card                 7\n",
              "dtype: int64"
            ]
          },
          "metadata": {},
          "execution_count": 30
        }
      ]
    },
    {
      "cell_type": "code",
      "source": [
        "Player13 = Data(data13)\n",
        "Player13.sum(axis=0)"
      ],
      "metadata": {
        "colab": {
          "base_uri": "https://localhost:8080/"
        },
        "id": "Vy66u31sdGM8",
        "outputId": "18097d8a-68eb-4b53-dc5b-a0e6e7fccbc6"
      },
      "execution_count": null,
      "outputs": [
        {
          "output_type": "execute_result",
          "data": {
            "text/plain": [
              "Matched_Play            329\n",
              "Minutes               24631\n",
              "Goals                    16\n",
              "Assist                   42\n",
              "Goals_Assist             58\n",
              "Non_Penality_Goals       16\n",
              "Yellow_Card               0\n",
              "Red_Card                 62\n",
              "dtype: int64"
            ]
          },
          "metadata": {},
          "execution_count": 31
        }
      ]
    },
    {
      "cell_type": "markdown",
      "source": [
        "## Out of all these we select 5 best defenders\n",
        "        > we take five factors for selection\n",
        "               1. Rate of Goals per match\n",
        "               2. Less Number of Red Cards and Yellow cards\n",
        "               3. Minutes\n",
        "               4. Rate of Goals_Assists per match\n",
        "               5. Rate of Assists per Match\n",
        "               6. Total amount of minutes he played overall"
      ],
      "metadata": {
        "id": "GzxDNPT-FpN1"
      }
    },
    {
      "cell_type": "code",
      "source": [
        "Combine = pd.DataFrame({'player 1':Player1.sum(axis=0),'player 2':Player2.sum(axis=0),'player 3':Player3.sum(axis=0),'player 4':Player4.sum(axis=0),'player 5':Player5.sum(axis=0),'player 6':Player6.sum(axis=0),'player 7':Player7.sum(axis=0),'player 8':Player8.sum(axis=0),'player 9':Player9.sum(axis=0),'player 10':Player10.sum(axis=0),'player 11':Player11.sum(axis=0),'player 12':Player12.sum(axis=0),'player 13':Player13.sum(axis=0)})"
      ],
      "metadata": {
        "id": "0__z9jm2FovV"
      },
      "execution_count": null,
      "outputs": []
    },
    {
      "cell_type": "code",
      "source": [
        "Combine"
      ],
      "metadata": {
        "colab": {
          "base_uri": "https://localhost:8080/",
          "height": 373
        },
        "id": "yEGa6UJvHYmC",
        "outputId": "7d812be5-eec5-4477-c893-2f4dd7a1cdb2"
      },
      "execution_count": null,
      "outputs": [
        {
          "output_type": "execute_result",
          "data": {
            "text/plain": [
              "                    player 1  player 2  player 3  player 4  player 5  \\\n",
              "Matched_Play             336       253       243       249       538   \n",
              "Minutes                25195     21157     20950     19552     45244   \n",
              "Goals                     21        10        15        19        11   \n",
              "Assist                    22         5         8         7        40   \n",
              "Goals_Assist              43        15        23        26        51   \n",
              "Non_Penality_Goals        20        10        15        19        11   \n",
              "Yellow_Card                1         0         0         0         0   \n",
              "Red_Card                  53        25        43        25        77   \n",
              "\n",
              "                    player 6  player 7  player 8  player 9  player 10  \\\n",
              "Matched_Play             339       372        31       134        176   \n",
              "Minutes                26303     31757      1921      7217      13397   \n",
              "Goals                     16        21         2         6         12   \n",
              "Assist                     5         6         2        17          9   \n",
              "Goals_Assist              21        27         4        23         21   \n",
              "Non_Penality_Goals        16        21         2         3         12   \n",
              "Yellow_Card                0         0         0         3          0   \n",
              "Red_Card                  12        77         1         6         39   \n",
              "\n",
              "                    player 11  player 12  player 13  \n",
              "Matched_Play               40         49        329  \n",
              "Minutes                  2417       3632      24631  \n",
              "Goals                       1          1         16  \n",
              "Assist                      3          1         42  \n",
              "Goals_Assist                4          2         58  \n",
              "Non_Penality_Goals          1          1         16  \n",
              "Yellow_Card                 0          0          0  \n",
              "Red_Card                    5          7         62  "
            ],
            "text/html": [
              "\n",
              "  <div id=\"df-2da1d7b9-1aa2-4062-a950-7121feeac5c4\">\n",
              "    <div class=\"colab-df-container\">\n",
              "      <div>\n",
              "<style scoped>\n",
              "    .dataframe tbody tr th:only-of-type {\n",
              "        vertical-align: middle;\n",
              "    }\n",
              "\n",
              "    .dataframe tbody tr th {\n",
              "        vertical-align: top;\n",
              "    }\n",
              "\n",
              "    .dataframe thead th {\n",
              "        text-align: right;\n",
              "    }\n",
              "</style>\n",
              "<table border=\"1\" class=\"dataframe\">\n",
              "  <thead>\n",
              "    <tr style=\"text-align: right;\">\n",
              "      <th></th>\n",
              "      <th>player 1</th>\n",
              "      <th>player 2</th>\n",
              "      <th>player 3</th>\n",
              "      <th>player 4</th>\n",
              "      <th>player 5</th>\n",
              "      <th>player 6</th>\n",
              "      <th>player 7</th>\n",
              "      <th>player 8</th>\n",
              "      <th>player 9</th>\n",
              "      <th>player 10</th>\n",
              "      <th>player 11</th>\n",
              "      <th>player 12</th>\n",
              "      <th>player 13</th>\n",
              "    </tr>\n",
              "  </thead>\n",
              "  <tbody>\n",
              "    <tr>\n",
              "      <th>Matched_Play</th>\n",
              "      <td>336</td>\n",
              "      <td>253</td>\n",
              "      <td>243</td>\n",
              "      <td>249</td>\n",
              "      <td>538</td>\n",
              "      <td>339</td>\n",
              "      <td>372</td>\n",
              "      <td>31</td>\n",
              "      <td>134</td>\n",
              "      <td>176</td>\n",
              "      <td>40</td>\n",
              "      <td>49</td>\n",
              "      <td>329</td>\n",
              "    </tr>\n",
              "    <tr>\n",
              "      <th>Minutes</th>\n",
              "      <td>25195</td>\n",
              "      <td>21157</td>\n",
              "      <td>20950</td>\n",
              "      <td>19552</td>\n",
              "      <td>45244</td>\n",
              "      <td>26303</td>\n",
              "      <td>31757</td>\n",
              "      <td>1921</td>\n",
              "      <td>7217</td>\n",
              "      <td>13397</td>\n",
              "      <td>2417</td>\n",
              "      <td>3632</td>\n",
              "      <td>24631</td>\n",
              "    </tr>\n",
              "    <tr>\n",
              "      <th>Goals</th>\n",
              "      <td>21</td>\n",
              "      <td>10</td>\n",
              "      <td>15</td>\n",
              "      <td>19</td>\n",
              "      <td>11</td>\n",
              "      <td>16</td>\n",
              "      <td>21</td>\n",
              "      <td>2</td>\n",
              "      <td>6</td>\n",
              "      <td>12</td>\n",
              "      <td>1</td>\n",
              "      <td>1</td>\n",
              "      <td>16</td>\n",
              "    </tr>\n",
              "    <tr>\n",
              "      <th>Assist</th>\n",
              "      <td>22</td>\n",
              "      <td>5</td>\n",
              "      <td>8</td>\n",
              "      <td>7</td>\n",
              "      <td>40</td>\n",
              "      <td>5</td>\n",
              "      <td>6</td>\n",
              "      <td>2</td>\n",
              "      <td>17</td>\n",
              "      <td>9</td>\n",
              "      <td>3</td>\n",
              "      <td>1</td>\n",
              "      <td>42</td>\n",
              "    </tr>\n",
              "    <tr>\n",
              "      <th>Goals_Assist</th>\n",
              "      <td>43</td>\n",
              "      <td>15</td>\n",
              "      <td>23</td>\n",
              "      <td>26</td>\n",
              "      <td>51</td>\n",
              "      <td>21</td>\n",
              "      <td>27</td>\n",
              "      <td>4</td>\n",
              "      <td>23</td>\n",
              "      <td>21</td>\n",
              "      <td>4</td>\n",
              "      <td>2</td>\n",
              "      <td>58</td>\n",
              "    </tr>\n",
              "    <tr>\n",
              "      <th>Non_Penality_Goals</th>\n",
              "      <td>20</td>\n",
              "      <td>10</td>\n",
              "      <td>15</td>\n",
              "      <td>19</td>\n",
              "      <td>11</td>\n",
              "      <td>16</td>\n",
              "      <td>21</td>\n",
              "      <td>2</td>\n",
              "      <td>3</td>\n",
              "      <td>12</td>\n",
              "      <td>1</td>\n",
              "      <td>1</td>\n",
              "      <td>16</td>\n",
              "    </tr>\n",
              "    <tr>\n",
              "      <th>Yellow_Card</th>\n",
              "      <td>1</td>\n",
              "      <td>0</td>\n",
              "      <td>0</td>\n",
              "      <td>0</td>\n",
              "      <td>0</td>\n",
              "      <td>0</td>\n",
              "      <td>0</td>\n",
              "      <td>0</td>\n",
              "      <td>3</td>\n",
              "      <td>0</td>\n",
              "      <td>0</td>\n",
              "      <td>0</td>\n",
              "      <td>0</td>\n",
              "    </tr>\n",
              "    <tr>\n",
              "      <th>Red_Card</th>\n",
              "      <td>53</td>\n",
              "      <td>25</td>\n",
              "      <td>43</td>\n",
              "      <td>25</td>\n",
              "      <td>77</td>\n",
              "      <td>12</td>\n",
              "      <td>77</td>\n",
              "      <td>1</td>\n",
              "      <td>6</td>\n",
              "      <td>39</td>\n",
              "      <td>5</td>\n",
              "      <td>7</td>\n",
              "      <td>62</td>\n",
              "    </tr>\n",
              "  </tbody>\n",
              "</table>\n",
              "</div>\n",
              "      <button class=\"colab-df-convert\" onclick=\"convertToInteractive('df-2da1d7b9-1aa2-4062-a950-7121feeac5c4')\"\n",
              "              title=\"Convert this dataframe to an interactive table.\"\n",
              "              style=\"display:none;\">\n",
              "        \n",
              "  <svg xmlns=\"http://www.w3.org/2000/svg\" height=\"24px\"viewBox=\"0 0 24 24\"\n",
              "       width=\"24px\">\n",
              "    <path d=\"M0 0h24v24H0V0z\" fill=\"none\"/>\n",
              "    <path d=\"M18.56 5.44l.94 2.06.94-2.06 2.06-.94-2.06-.94-.94-2.06-.94 2.06-2.06.94zm-11 1L8.5 8.5l.94-2.06 2.06-.94-2.06-.94L8.5 2.5l-.94 2.06-2.06.94zm10 10l.94 2.06.94-2.06 2.06-.94-2.06-.94-.94-2.06-.94 2.06-2.06.94z\"/><path d=\"M17.41 7.96l-1.37-1.37c-.4-.4-.92-.59-1.43-.59-.52 0-1.04.2-1.43.59L10.3 9.45l-7.72 7.72c-.78.78-.78 2.05 0 2.83L4 21.41c.39.39.9.59 1.41.59.51 0 1.02-.2 1.41-.59l7.78-7.78 2.81-2.81c.8-.78.8-2.07 0-2.86zM5.41 20L4 18.59l7.72-7.72 1.47 1.35L5.41 20z\"/>\n",
              "  </svg>\n",
              "      </button>\n",
              "      \n",
              "  <style>\n",
              "    .colab-df-container {\n",
              "      display:flex;\n",
              "      flex-wrap:wrap;\n",
              "      gap: 12px;\n",
              "    }\n",
              "\n",
              "    .colab-df-convert {\n",
              "      background-color: #E8F0FE;\n",
              "      border: none;\n",
              "      border-radius: 50%;\n",
              "      cursor: pointer;\n",
              "      display: none;\n",
              "      fill: #1967D2;\n",
              "      height: 32px;\n",
              "      padding: 0 0 0 0;\n",
              "      width: 32px;\n",
              "    }\n",
              "\n",
              "    .colab-df-convert:hover {\n",
              "      background-color: #E2EBFA;\n",
              "      box-shadow: 0px 1px 2px rgba(60, 64, 67, 0.3), 0px 1px 3px 1px rgba(60, 64, 67, 0.15);\n",
              "      fill: #174EA6;\n",
              "    }\n",
              "\n",
              "    [theme=dark] .colab-df-convert {\n",
              "      background-color: #3B4455;\n",
              "      fill: #D2E3FC;\n",
              "    }\n",
              "\n",
              "    [theme=dark] .colab-df-convert:hover {\n",
              "      background-color: #434B5C;\n",
              "      box-shadow: 0px 1px 3px 1px rgba(0, 0, 0, 0.15);\n",
              "      filter: drop-shadow(0px 1px 2px rgba(0, 0, 0, 0.3));\n",
              "      fill: #FFFFFF;\n",
              "    }\n",
              "  </style>\n",
              "\n",
              "      <script>\n",
              "        const buttonEl =\n",
              "          document.querySelector('#df-2da1d7b9-1aa2-4062-a950-7121feeac5c4 button.colab-df-convert');\n",
              "        buttonEl.style.display =\n",
              "          google.colab.kernel.accessAllowed ? 'block' : 'none';\n",
              "\n",
              "        async function convertToInteractive(key) {\n",
              "          const element = document.querySelector('#df-2da1d7b9-1aa2-4062-a950-7121feeac5c4');\n",
              "          const dataTable =\n",
              "            await google.colab.kernel.invokeFunction('convertToInteractive',\n",
              "                                                     [key], {});\n",
              "          if (!dataTable) return;\n",
              "\n",
              "          const docLinkHtml = 'Like what you see? Visit the ' +\n",
              "            '<a target=\"_blank\" href=https://colab.research.google.com/notebooks/data_table.ipynb>data table notebook</a>'\n",
              "            + ' to learn more about interactive tables.';\n",
              "          element.innerHTML = '';\n",
              "          dataTable['output_type'] = 'display_data';\n",
              "          await google.colab.output.renderOutput(dataTable, element);\n",
              "          const docLink = document.createElement('div');\n",
              "          docLink.innerHTML = docLinkHtml;\n",
              "          element.appendChild(docLink);\n",
              "        }\n",
              "      </script>\n",
              "    </div>\n",
              "  </div>\n",
              "  "
            ]
          },
          "metadata": {},
          "execution_count": 33
        }
      ]
    },
    {
      "cell_type": "code",
      "source": [
        "Combined = Combine.T\n",
        "Combined = Combined[Combined['Matched_Play'] > 200]"
      ],
      "metadata": {
        "id": "bhH-CLJbmHY3"
      },
      "execution_count": null,
      "outputs": []
    },
    {
      "cell_type": "code",
      "source": [
        "Combined"
      ],
      "metadata": {
        "colab": {
          "base_uri": "https://localhost:8080/",
          "height": 313
        },
        "id": "THsD2GLLmSQ2",
        "outputId": "cd7768c8-1934-4c5c-b4de-4084ad705086"
      },
      "execution_count": null,
      "outputs": [
        {
          "output_type": "execute_result",
          "data": {
            "text/plain": [
              "           Matched_Play  Minutes  Goals  Assist  Goals_Assist  \\\n",
              "player 1            336    25195     21      22            43   \n",
              "player 2            253    21157     10       5            15   \n",
              "player 3            243    20950     15       8            23   \n",
              "player 4            249    19552     19       7            26   \n",
              "player 5            538    45244     11      40            51   \n",
              "player 6            339    26303     16       5            21   \n",
              "player 7            372    31757     21       6            27   \n",
              "player 13           329    24631     16      42            58   \n",
              "\n",
              "           Non_Penality_Goals  Yellow_Card  Red_Card  \n",
              "player 1                   20            1        53  \n",
              "player 2                   10            0        25  \n",
              "player 3                   15            0        43  \n",
              "player 4                   19            0        25  \n",
              "player 5                   11            0        77  \n",
              "player 6                   16            0        12  \n",
              "player 7                   21            0        77  \n",
              "player 13                  16            0        62  "
            ],
            "text/html": [
              "\n",
              "  <div id=\"df-d546d153-4b50-40f2-8f6e-226f6d1a0042\">\n",
              "    <div class=\"colab-df-container\">\n",
              "      <div>\n",
              "<style scoped>\n",
              "    .dataframe tbody tr th:only-of-type {\n",
              "        vertical-align: middle;\n",
              "    }\n",
              "\n",
              "    .dataframe tbody tr th {\n",
              "        vertical-align: top;\n",
              "    }\n",
              "\n",
              "    .dataframe thead th {\n",
              "        text-align: right;\n",
              "    }\n",
              "</style>\n",
              "<table border=\"1\" class=\"dataframe\">\n",
              "  <thead>\n",
              "    <tr style=\"text-align: right;\">\n",
              "      <th></th>\n",
              "      <th>Matched_Play</th>\n",
              "      <th>Minutes</th>\n",
              "      <th>Goals</th>\n",
              "      <th>Assist</th>\n",
              "      <th>Goals_Assist</th>\n",
              "      <th>Non_Penality_Goals</th>\n",
              "      <th>Yellow_Card</th>\n",
              "      <th>Red_Card</th>\n",
              "    </tr>\n",
              "  </thead>\n",
              "  <tbody>\n",
              "    <tr>\n",
              "      <th>player 1</th>\n",
              "      <td>336</td>\n",
              "      <td>25195</td>\n",
              "      <td>21</td>\n",
              "      <td>22</td>\n",
              "      <td>43</td>\n",
              "      <td>20</td>\n",
              "      <td>1</td>\n",
              "      <td>53</td>\n",
              "    </tr>\n",
              "    <tr>\n",
              "      <th>player 2</th>\n",
              "      <td>253</td>\n",
              "      <td>21157</td>\n",
              "      <td>10</td>\n",
              "      <td>5</td>\n",
              "      <td>15</td>\n",
              "      <td>10</td>\n",
              "      <td>0</td>\n",
              "      <td>25</td>\n",
              "    </tr>\n",
              "    <tr>\n",
              "      <th>player 3</th>\n",
              "      <td>243</td>\n",
              "      <td>20950</td>\n",
              "      <td>15</td>\n",
              "      <td>8</td>\n",
              "      <td>23</td>\n",
              "      <td>15</td>\n",
              "      <td>0</td>\n",
              "      <td>43</td>\n",
              "    </tr>\n",
              "    <tr>\n",
              "      <th>player 4</th>\n",
              "      <td>249</td>\n",
              "      <td>19552</td>\n",
              "      <td>19</td>\n",
              "      <td>7</td>\n",
              "      <td>26</td>\n",
              "      <td>19</td>\n",
              "      <td>0</td>\n",
              "      <td>25</td>\n",
              "    </tr>\n",
              "    <tr>\n",
              "      <th>player 5</th>\n",
              "      <td>538</td>\n",
              "      <td>45244</td>\n",
              "      <td>11</td>\n",
              "      <td>40</td>\n",
              "      <td>51</td>\n",
              "      <td>11</td>\n",
              "      <td>0</td>\n",
              "      <td>77</td>\n",
              "    </tr>\n",
              "    <tr>\n",
              "      <th>player 6</th>\n",
              "      <td>339</td>\n",
              "      <td>26303</td>\n",
              "      <td>16</td>\n",
              "      <td>5</td>\n",
              "      <td>21</td>\n",
              "      <td>16</td>\n",
              "      <td>0</td>\n",
              "      <td>12</td>\n",
              "    </tr>\n",
              "    <tr>\n",
              "      <th>player 7</th>\n",
              "      <td>372</td>\n",
              "      <td>31757</td>\n",
              "      <td>21</td>\n",
              "      <td>6</td>\n",
              "      <td>27</td>\n",
              "      <td>21</td>\n",
              "      <td>0</td>\n",
              "      <td>77</td>\n",
              "    </tr>\n",
              "    <tr>\n",
              "      <th>player 13</th>\n",
              "      <td>329</td>\n",
              "      <td>24631</td>\n",
              "      <td>16</td>\n",
              "      <td>42</td>\n",
              "      <td>58</td>\n",
              "      <td>16</td>\n",
              "      <td>0</td>\n",
              "      <td>62</td>\n",
              "    </tr>\n",
              "  </tbody>\n",
              "</table>\n",
              "</div>\n",
              "      <button class=\"colab-df-convert\" onclick=\"convertToInteractive('df-d546d153-4b50-40f2-8f6e-226f6d1a0042')\"\n",
              "              title=\"Convert this dataframe to an interactive table.\"\n",
              "              style=\"display:none;\">\n",
              "        \n",
              "  <svg xmlns=\"http://www.w3.org/2000/svg\" height=\"24px\"viewBox=\"0 0 24 24\"\n",
              "       width=\"24px\">\n",
              "    <path d=\"M0 0h24v24H0V0z\" fill=\"none\"/>\n",
              "    <path d=\"M18.56 5.44l.94 2.06.94-2.06 2.06-.94-2.06-.94-.94-2.06-.94 2.06-2.06.94zm-11 1L8.5 8.5l.94-2.06 2.06-.94-2.06-.94L8.5 2.5l-.94 2.06-2.06.94zm10 10l.94 2.06.94-2.06 2.06-.94-2.06-.94-.94-2.06-.94 2.06-2.06.94z\"/><path d=\"M17.41 7.96l-1.37-1.37c-.4-.4-.92-.59-1.43-.59-.52 0-1.04.2-1.43.59L10.3 9.45l-7.72 7.72c-.78.78-.78 2.05 0 2.83L4 21.41c.39.39.9.59 1.41.59.51 0 1.02-.2 1.41-.59l7.78-7.78 2.81-2.81c.8-.78.8-2.07 0-2.86zM5.41 20L4 18.59l7.72-7.72 1.47 1.35L5.41 20z\"/>\n",
              "  </svg>\n",
              "      </button>\n",
              "      \n",
              "  <style>\n",
              "    .colab-df-container {\n",
              "      display:flex;\n",
              "      flex-wrap:wrap;\n",
              "      gap: 12px;\n",
              "    }\n",
              "\n",
              "    .colab-df-convert {\n",
              "      background-color: #E8F0FE;\n",
              "      border: none;\n",
              "      border-radius: 50%;\n",
              "      cursor: pointer;\n",
              "      display: none;\n",
              "      fill: #1967D2;\n",
              "      height: 32px;\n",
              "      padding: 0 0 0 0;\n",
              "      width: 32px;\n",
              "    }\n",
              "\n",
              "    .colab-df-convert:hover {\n",
              "      background-color: #E2EBFA;\n",
              "      box-shadow: 0px 1px 2px rgba(60, 64, 67, 0.3), 0px 1px 3px 1px rgba(60, 64, 67, 0.15);\n",
              "      fill: #174EA6;\n",
              "    }\n",
              "\n",
              "    [theme=dark] .colab-df-convert {\n",
              "      background-color: #3B4455;\n",
              "      fill: #D2E3FC;\n",
              "    }\n",
              "\n",
              "    [theme=dark] .colab-df-convert:hover {\n",
              "      background-color: #434B5C;\n",
              "      box-shadow: 0px 1px 3px 1px rgba(0, 0, 0, 0.15);\n",
              "      filter: drop-shadow(0px 1px 2px rgba(0, 0, 0, 0.3));\n",
              "      fill: #FFFFFF;\n",
              "    }\n",
              "  </style>\n",
              "\n",
              "      <script>\n",
              "        const buttonEl =\n",
              "          document.querySelector('#df-d546d153-4b50-40f2-8f6e-226f6d1a0042 button.colab-df-convert');\n",
              "        buttonEl.style.display =\n",
              "          google.colab.kernel.accessAllowed ? 'block' : 'none';\n",
              "\n",
              "        async function convertToInteractive(key) {\n",
              "          const element = document.querySelector('#df-d546d153-4b50-40f2-8f6e-226f6d1a0042');\n",
              "          const dataTable =\n",
              "            await google.colab.kernel.invokeFunction('convertToInteractive',\n",
              "                                                     [key], {});\n",
              "          if (!dataTable) return;\n",
              "\n",
              "          const docLinkHtml = 'Like what you see? Visit the ' +\n",
              "            '<a target=\"_blank\" href=https://colab.research.google.com/notebooks/data_table.ipynb>data table notebook</a>'\n",
              "            + ' to learn more about interactive tables.';\n",
              "          element.innerHTML = '';\n",
              "          dataTable['output_type'] = 'display_data';\n",
              "          await google.colab.output.renderOutput(dataTable, element);\n",
              "          const docLink = document.createElement('div');\n",
              "          docLink.innerHTML = docLinkHtml;\n",
              "          element.appendChild(docLink);\n",
              "        }\n",
              "      </script>\n",
              "    </div>\n",
              "  </div>\n",
              "  "
            ]
          },
          "metadata": {},
          "execution_count": 35
        }
      ]
    },
    {
      "cell_type": "markdown",
      "source": [
        "### To find the rate for each match we divide every factor of individiual player by  number of match played by that player"
      ],
      "metadata": {
        "id": "LEpZ7PUAJ7Bc"
      }
    },
    {
      "cell_type": "code",
      "source": [
        "Combined = pd.DataFrame({'player 1':Player1.sum(axis=0)/(Combine['player 1'][0]),'player 2':Player2.sum(axis=0)/(Combine['player 2'][0]),'player 3':Player3.sum(axis=0)/(Combine['player 3'][0]),'player 4':Player4.sum(axis=0)/(Combine['player 4'][0]),'player 5':Player5.sum(axis=0)/(Combine['player 5'][0]),'player 6':Player6.sum(axis=0)/(Combine['player 6'][0]),'player 7':Player7.sum(axis=0)/Combine['player 7'][0],'player13':Player13.sum(axis=0)/Combine['player 13'][0]})"
      ],
      "metadata": {
        "id": "ifQUybvqKNmw"
      },
      "execution_count": null,
      "outputs": []
    },
    {
      "cell_type": "code",
      "source": [
        "Combined"
      ],
      "metadata": {
        "colab": {
          "base_uri": "https://localhost:8080/",
          "height": 313
        },
        "id": "D5t5mZpJm10O",
        "outputId": "f5370e4a-9b2c-4333-e2fe-ca3f67a4b56f"
      },
      "execution_count": null,
      "outputs": [
        {
          "output_type": "execute_result",
          "data": {
            "text/plain": [
              "                     player 1   player 2   player 3   player 4   player 5  \\\n",
              "Matched_Play         1.000000   1.000000   1.000000   1.000000   1.000000   \n",
              "Minutes             74.985119  83.624506  86.213992  78.522088  84.096654   \n",
              "Goals                0.062500   0.039526   0.061728   0.076305   0.020446   \n",
              "Assist               0.065476   0.019763   0.032922   0.028112   0.074349   \n",
              "Goals_Assist         0.127976   0.059289   0.094650   0.104418   0.094796   \n",
              "Non_Penality_Goals   0.059524   0.039526   0.061728   0.076305   0.020446   \n",
              "Yellow_Card          0.002976   0.000000   0.000000   0.000000   0.000000   \n",
              "Red_Card             0.157738   0.098814   0.176955   0.100402   0.143123   \n",
              "\n",
              "                     player 6   player 7   player13  \n",
              "Matched_Play         1.000000   1.000000   1.000000  \n",
              "Minutes             77.589971  85.368280  74.866261  \n",
              "Goals                0.047198   0.056452   0.048632  \n",
              "Assist               0.014749   0.016129   0.127660  \n",
              "Goals_Assist         0.061947   0.072581   0.176292  \n",
              "Non_Penality_Goals   0.047198   0.056452   0.048632  \n",
              "Yellow_Card          0.000000   0.000000   0.000000  \n",
              "Red_Card             0.035398   0.206989   0.188450  "
            ],
            "text/html": [
              "\n",
              "  <div id=\"df-1f004aa3-02ba-499c-b227-5e1720b533d1\">\n",
              "    <div class=\"colab-df-container\">\n",
              "      <div>\n",
              "<style scoped>\n",
              "    .dataframe tbody tr th:only-of-type {\n",
              "        vertical-align: middle;\n",
              "    }\n",
              "\n",
              "    .dataframe tbody tr th {\n",
              "        vertical-align: top;\n",
              "    }\n",
              "\n",
              "    .dataframe thead th {\n",
              "        text-align: right;\n",
              "    }\n",
              "</style>\n",
              "<table border=\"1\" class=\"dataframe\">\n",
              "  <thead>\n",
              "    <tr style=\"text-align: right;\">\n",
              "      <th></th>\n",
              "      <th>player 1</th>\n",
              "      <th>player 2</th>\n",
              "      <th>player 3</th>\n",
              "      <th>player 4</th>\n",
              "      <th>player 5</th>\n",
              "      <th>player 6</th>\n",
              "      <th>player 7</th>\n",
              "      <th>player13</th>\n",
              "    </tr>\n",
              "  </thead>\n",
              "  <tbody>\n",
              "    <tr>\n",
              "      <th>Matched_Play</th>\n",
              "      <td>1.000000</td>\n",
              "      <td>1.000000</td>\n",
              "      <td>1.000000</td>\n",
              "      <td>1.000000</td>\n",
              "      <td>1.000000</td>\n",
              "      <td>1.000000</td>\n",
              "      <td>1.000000</td>\n",
              "      <td>1.000000</td>\n",
              "    </tr>\n",
              "    <tr>\n",
              "      <th>Minutes</th>\n",
              "      <td>74.985119</td>\n",
              "      <td>83.624506</td>\n",
              "      <td>86.213992</td>\n",
              "      <td>78.522088</td>\n",
              "      <td>84.096654</td>\n",
              "      <td>77.589971</td>\n",
              "      <td>85.368280</td>\n",
              "      <td>74.866261</td>\n",
              "    </tr>\n",
              "    <tr>\n",
              "      <th>Goals</th>\n",
              "      <td>0.062500</td>\n",
              "      <td>0.039526</td>\n",
              "      <td>0.061728</td>\n",
              "      <td>0.076305</td>\n",
              "      <td>0.020446</td>\n",
              "      <td>0.047198</td>\n",
              "      <td>0.056452</td>\n",
              "      <td>0.048632</td>\n",
              "    </tr>\n",
              "    <tr>\n",
              "      <th>Assist</th>\n",
              "      <td>0.065476</td>\n",
              "      <td>0.019763</td>\n",
              "      <td>0.032922</td>\n",
              "      <td>0.028112</td>\n",
              "      <td>0.074349</td>\n",
              "      <td>0.014749</td>\n",
              "      <td>0.016129</td>\n",
              "      <td>0.127660</td>\n",
              "    </tr>\n",
              "    <tr>\n",
              "      <th>Goals_Assist</th>\n",
              "      <td>0.127976</td>\n",
              "      <td>0.059289</td>\n",
              "      <td>0.094650</td>\n",
              "      <td>0.104418</td>\n",
              "      <td>0.094796</td>\n",
              "      <td>0.061947</td>\n",
              "      <td>0.072581</td>\n",
              "      <td>0.176292</td>\n",
              "    </tr>\n",
              "    <tr>\n",
              "      <th>Non_Penality_Goals</th>\n",
              "      <td>0.059524</td>\n",
              "      <td>0.039526</td>\n",
              "      <td>0.061728</td>\n",
              "      <td>0.076305</td>\n",
              "      <td>0.020446</td>\n",
              "      <td>0.047198</td>\n",
              "      <td>0.056452</td>\n",
              "      <td>0.048632</td>\n",
              "    </tr>\n",
              "    <tr>\n",
              "      <th>Yellow_Card</th>\n",
              "      <td>0.002976</td>\n",
              "      <td>0.000000</td>\n",
              "      <td>0.000000</td>\n",
              "      <td>0.000000</td>\n",
              "      <td>0.000000</td>\n",
              "      <td>0.000000</td>\n",
              "      <td>0.000000</td>\n",
              "      <td>0.000000</td>\n",
              "    </tr>\n",
              "    <tr>\n",
              "      <th>Red_Card</th>\n",
              "      <td>0.157738</td>\n",
              "      <td>0.098814</td>\n",
              "      <td>0.176955</td>\n",
              "      <td>0.100402</td>\n",
              "      <td>0.143123</td>\n",
              "      <td>0.035398</td>\n",
              "      <td>0.206989</td>\n",
              "      <td>0.188450</td>\n",
              "    </tr>\n",
              "  </tbody>\n",
              "</table>\n",
              "</div>\n",
              "      <button class=\"colab-df-convert\" onclick=\"convertToInteractive('df-1f004aa3-02ba-499c-b227-5e1720b533d1')\"\n",
              "              title=\"Convert this dataframe to an interactive table.\"\n",
              "              style=\"display:none;\">\n",
              "        \n",
              "  <svg xmlns=\"http://www.w3.org/2000/svg\" height=\"24px\"viewBox=\"0 0 24 24\"\n",
              "       width=\"24px\">\n",
              "    <path d=\"M0 0h24v24H0V0z\" fill=\"none\"/>\n",
              "    <path d=\"M18.56 5.44l.94 2.06.94-2.06 2.06-.94-2.06-.94-.94-2.06-.94 2.06-2.06.94zm-11 1L8.5 8.5l.94-2.06 2.06-.94-2.06-.94L8.5 2.5l-.94 2.06-2.06.94zm10 10l.94 2.06.94-2.06 2.06-.94-2.06-.94-.94-2.06-.94 2.06-2.06.94z\"/><path d=\"M17.41 7.96l-1.37-1.37c-.4-.4-.92-.59-1.43-.59-.52 0-1.04.2-1.43.59L10.3 9.45l-7.72 7.72c-.78.78-.78 2.05 0 2.83L4 21.41c.39.39.9.59 1.41.59.51 0 1.02-.2 1.41-.59l7.78-7.78 2.81-2.81c.8-.78.8-2.07 0-2.86zM5.41 20L4 18.59l7.72-7.72 1.47 1.35L5.41 20z\"/>\n",
              "  </svg>\n",
              "      </button>\n",
              "      \n",
              "  <style>\n",
              "    .colab-df-container {\n",
              "      display:flex;\n",
              "      flex-wrap:wrap;\n",
              "      gap: 12px;\n",
              "    }\n",
              "\n",
              "    .colab-df-convert {\n",
              "      background-color: #E8F0FE;\n",
              "      border: none;\n",
              "      border-radius: 50%;\n",
              "      cursor: pointer;\n",
              "      display: none;\n",
              "      fill: #1967D2;\n",
              "      height: 32px;\n",
              "      padding: 0 0 0 0;\n",
              "      width: 32px;\n",
              "    }\n",
              "\n",
              "    .colab-df-convert:hover {\n",
              "      background-color: #E2EBFA;\n",
              "      box-shadow: 0px 1px 2px rgba(60, 64, 67, 0.3), 0px 1px 3px 1px rgba(60, 64, 67, 0.15);\n",
              "      fill: #174EA6;\n",
              "    }\n",
              "\n",
              "    [theme=dark] .colab-df-convert {\n",
              "      background-color: #3B4455;\n",
              "      fill: #D2E3FC;\n",
              "    }\n",
              "\n",
              "    [theme=dark] .colab-df-convert:hover {\n",
              "      background-color: #434B5C;\n",
              "      box-shadow: 0px 1px 3px 1px rgba(0, 0, 0, 0.15);\n",
              "      filter: drop-shadow(0px 1px 2px rgba(0, 0, 0, 0.3));\n",
              "      fill: #FFFFFF;\n",
              "    }\n",
              "  </style>\n",
              "\n",
              "      <script>\n",
              "        const buttonEl =\n",
              "          document.querySelector('#df-1f004aa3-02ba-499c-b227-5e1720b533d1 button.colab-df-convert');\n",
              "        buttonEl.style.display =\n",
              "          google.colab.kernel.accessAllowed ? 'block' : 'none';\n",
              "\n",
              "        async function convertToInteractive(key) {\n",
              "          const element = document.querySelector('#df-1f004aa3-02ba-499c-b227-5e1720b533d1');\n",
              "          const dataTable =\n",
              "            await google.colab.kernel.invokeFunction('convertToInteractive',\n",
              "                                                     [key], {});\n",
              "          if (!dataTable) return;\n",
              "\n",
              "          const docLinkHtml = 'Like what you see? Visit the ' +\n",
              "            '<a target=\"_blank\" href=https://colab.research.google.com/notebooks/data_table.ipynb>data table notebook</a>'\n",
              "            + ' to learn more about interactive tables.';\n",
              "          element.innerHTML = '';\n",
              "          dataTable['output_type'] = 'display_data';\n",
              "          await google.colab.output.renderOutput(dataTable, element);\n",
              "          const docLink = document.createElement('div');\n",
              "          docLink.innerHTML = docLinkHtml;\n",
              "          element.appendChild(docLink);\n",
              "        }\n",
              "      </script>\n",
              "    </div>\n",
              "  </div>\n",
              "  "
            ]
          },
          "metadata": {},
          "execution_count": 37
        }
      ]
    },
    {
      "cell_type": "markdown",
      "source": [
        "### There are total 12 defenders out of these we choose 4 defenders\n",
        "      > we select those player for which Goals per match is greater than 0.05"
      ],
      "metadata": {
        "id": "7-eoYk-tMgxO"
      }
    },
    {
      "cell_type": "code",
      "source": [
        "Final = Combined.T\n",
        "\n",
        "rslt_df = Final[Final['Goals'] > 0.05]"
      ],
      "metadata": {
        "id": "IWQR7boVMf8m"
      },
      "execution_count": null,
      "outputs": []
    },
    {
      "cell_type": "code",
      "source": [
        "rslt_df"
      ],
      "metadata": {
        "colab": {
          "base_uri": "https://localhost:8080/",
          "height": 191
        },
        "id": "MePnIq-vRuo5",
        "outputId": "a4da3537-577f-4b2f-e1b6-eca22973f93c"
      },
      "execution_count": null,
      "outputs": [
        {
          "output_type": "execute_result",
          "data": {
            "text/plain": [
              "          Matched_Play    Minutes     Goals    Assist  Goals_Assist  \\\n",
              "player 1           1.0  74.985119  0.062500  0.065476      0.127976   \n",
              "player 3           1.0  86.213992  0.061728  0.032922      0.094650   \n",
              "player 4           1.0  78.522088  0.076305  0.028112      0.104418   \n",
              "player 7           1.0  85.368280  0.056452  0.016129      0.072581   \n",
              "\n",
              "          Non_Penality_Goals  Yellow_Card  Red_Card  \n",
              "player 1            0.059524     0.002976  0.157738  \n",
              "player 3            0.061728     0.000000  0.176955  \n",
              "player 4            0.076305     0.000000  0.100402  \n",
              "player 7            0.056452     0.000000  0.206989  "
            ],
            "text/html": [
              "\n",
              "  <div id=\"df-f864cb47-0b6b-4613-a631-55e2121e6f60\">\n",
              "    <div class=\"colab-df-container\">\n",
              "      <div>\n",
              "<style scoped>\n",
              "    .dataframe tbody tr th:only-of-type {\n",
              "        vertical-align: middle;\n",
              "    }\n",
              "\n",
              "    .dataframe tbody tr th {\n",
              "        vertical-align: top;\n",
              "    }\n",
              "\n",
              "    .dataframe thead th {\n",
              "        text-align: right;\n",
              "    }\n",
              "</style>\n",
              "<table border=\"1\" class=\"dataframe\">\n",
              "  <thead>\n",
              "    <tr style=\"text-align: right;\">\n",
              "      <th></th>\n",
              "      <th>Matched_Play</th>\n",
              "      <th>Minutes</th>\n",
              "      <th>Goals</th>\n",
              "      <th>Assist</th>\n",
              "      <th>Goals_Assist</th>\n",
              "      <th>Non_Penality_Goals</th>\n",
              "      <th>Yellow_Card</th>\n",
              "      <th>Red_Card</th>\n",
              "    </tr>\n",
              "  </thead>\n",
              "  <tbody>\n",
              "    <tr>\n",
              "      <th>player 1</th>\n",
              "      <td>1.0</td>\n",
              "      <td>74.985119</td>\n",
              "      <td>0.062500</td>\n",
              "      <td>0.065476</td>\n",
              "      <td>0.127976</td>\n",
              "      <td>0.059524</td>\n",
              "      <td>0.002976</td>\n",
              "      <td>0.157738</td>\n",
              "    </tr>\n",
              "    <tr>\n",
              "      <th>player 3</th>\n",
              "      <td>1.0</td>\n",
              "      <td>86.213992</td>\n",
              "      <td>0.061728</td>\n",
              "      <td>0.032922</td>\n",
              "      <td>0.094650</td>\n",
              "      <td>0.061728</td>\n",
              "      <td>0.000000</td>\n",
              "      <td>0.176955</td>\n",
              "    </tr>\n",
              "    <tr>\n",
              "      <th>player 4</th>\n",
              "      <td>1.0</td>\n",
              "      <td>78.522088</td>\n",
              "      <td>0.076305</td>\n",
              "      <td>0.028112</td>\n",
              "      <td>0.104418</td>\n",
              "      <td>0.076305</td>\n",
              "      <td>0.000000</td>\n",
              "      <td>0.100402</td>\n",
              "    </tr>\n",
              "    <tr>\n",
              "      <th>player 7</th>\n",
              "      <td>1.0</td>\n",
              "      <td>85.368280</td>\n",
              "      <td>0.056452</td>\n",
              "      <td>0.016129</td>\n",
              "      <td>0.072581</td>\n",
              "      <td>0.056452</td>\n",
              "      <td>0.000000</td>\n",
              "      <td>0.206989</td>\n",
              "    </tr>\n",
              "  </tbody>\n",
              "</table>\n",
              "</div>\n",
              "      <button class=\"colab-df-convert\" onclick=\"convertToInteractive('df-f864cb47-0b6b-4613-a631-55e2121e6f60')\"\n",
              "              title=\"Convert this dataframe to an interactive table.\"\n",
              "              style=\"display:none;\">\n",
              "        \n",
              "  <svg xmlns=\"http://www.w3.org/2000/svg\" height=\"24px\"viewBox=\"0 0 24 24\"\n",
              "       width=\"24px\">\n",
              "    <path d=\"M0 0h24v24H0V0z\" fill=\"none\"/>\n",
              "    <path d=\"M18.56 5.44l.94 2.06.94-2.06 2.06-.94-2.06-.94-.94-2.06-.94 2.06-2.06.94zm-11 1L8.5 8.5l.94-2.06 2.06-.94-2.06-.94L8.5 2.5l-.94 2.06-2.06.94zm10 10l.94 2.06.94-2.06 2.06-.94-2.06-.94-.94-2.06-.94 2.06-2.06.94z\"/><path d=\"M17.41 7.96l-1.37-1.37c-.4-.4-.92-.59-1.43-.59-.52 0-1.04.2-1.43.59L10.3 9.45l-7.72 7.72c-.78.78-.78 2.05 0 2.83L4 21.41c.39.39.9.59 1.41.59.51 0 1.02-.2 1.41-.59l7.78-7.78 2.81-2.81c.8-.78.8-2.07 0-2.86zM5.41 20L4 18.59l7.72-7.72 1.47 1.35L5.41 20z\"/>\n",
              "  </svg>\n",
              "      </button>\n",
              "      \n",
              "  <style>\n",
              "    .colab-df-container {\n",
              "      display:flex;\n",
              "      flex-wrap:wrap;\n",
              "      gap: 12px;\n",
              "    }\n",
              "\n",
              "    .colab-df-convert {\n",
              "      background-color: #E8F0FE;\n",
              "      border: none;\n",
              "      border-radius: 50%;\n",
              "      cursor: pointer;\n",
              "      display: none;\n",
              "      fill: #1967D2;\n",
              "      height: 32px;\n",
              "      padding: 0 0 0 0;\n",
              "      width: 32px;\n",
              "    }\n",
              "\n",
              "    .colab-df-convert:hover {\n",
              "      background-color: #E2EBFA;\n",
              "      box-shadow: 0px 1px 2px rgba(60, 64, 67, 0.3), 0px 1px 3px 1px rgba(60, 64, 67, 0.15);\n",
              "      fill: #174EA6;\n",
              "    }\n",
              "\n",
              "    [theme=dark] .colab-df-convert {\n",
              "      background-color: #3B4455;\n",
              "      fill: #D2E3FC;\n",
              "    }\n",
              "\n",
              "    [theme=dark] .colab-df-convert:hover {\n",
              "      background-color: #434B5C;\n",
              "      box-shadow: 0px 1px 3px 1px rgba(0, 0, 0, 0.15);\n",
              "      filter: drop-shadow(0px 1px 2px rgba(0, 0, 0, 0.3));\n",
              "      fill: #FFFFFF;\n",
              "    }\n",
              "  </style>\n",
              "\n",
              "      <script>\n",
              "        const buttonEl =\n",
              "          document.querySelector('#df-f864cb47-0b6b-4613-a631-55e2121e6f60 button.colab-df-convert');\n",
              "        buttonEl.style.display =\n",
              "          google.colab.kernel.accessAllowed ? 'block' : 'none';\n",
              "\n",
              "        async function convertToInteractive(key) {\n",
              "          const element = document.querySelector('#df-f864cb47-0b6b-4613-a631-55e2121e6f60');\n",
              "          const dataTable =\n",
              "            await google.colab.kernel.invokeFunction('convertToInteractive',\n",
              "                                                     [key], {});\n",
              "          if (!dataTable) return;\n",
              "\n",
              "          const docLinkHtml = 'Like what you see? Visit the ' +\n",
              "            '<a target=\"_blank\" href=https://colab.research.google.com/notebooks/data_table.ipynb>data table notebook</a>'\n",
              "            + ' to learn more about interactive tables.';\n",
              "          element.innerHTML = '';\n",
              "          dataTable['output_type'] = 'display_data';\n",
              "          await google.colab.output.renderOutput(dataTable, element);\n",
              "          const docLink = document.createElement('div');\n",
              "          docLink.innerHTML = docLinkHtml;\n",
              "          element.appendChild(docLink);\n",
              "        }\n",
              "      </script>\n",
              "    </div>\n",
              "  </div>\n",
              "  "
            ]
          },
          "metadata": {},
          "execution_count": 39
        }
      ]
    },
    {
      "cell_type": "markdown",
      "source": [
        "### We add a column : *total_contribute* = Non_Penality_Goals+Assist+Goals_Assist\n",
        "\n",
        " Now we remove those Players which have lowest:\n",
        "               \n",
        "                > Non_Penality_Goals+Assist+Goals_Assist"
      ],
      "metadata": {
        "id": "4fq6vAilSGrr"
      }
    },
    {
      "cell_type": "code",
      "source": [
        "rslt_df['Total_contribute'] = rslt_df['Non_Penality_Goals']+rslt_df['Assist']+rslt_df['Goals_Assist']"
      ],
      "metadata": {
        "colab": {
          "base_uri": "https://localhost:8080/"
        },
        "id": "31GuzdMySGJp",
        "outputId": "a5430a57-5098-41b0-9f7b-0f935af234b6"
      },
      "execution_count": null,
      "outputs": [
        {
          "output_type": "stream",
          "name": "stderr",
          "text": [
            "<ipython-input-40-5cadc9842058>:1: SettingWithCopyWarning: \n",
            "A value is trying to be set on a copy of a slice from a DataFrame.\n",
            "Try using .loc[row_indexer,col_indexer] = value instead\n",
            "\n",
            "See the caveats in the documentation: https://pandas.pydata.org/pandas-docs/stable/user_guide/indexing.html#returning-a-view-versus-a-copy\n",
            "  rslt_df['Total_contribute'] = rslt_df['Non_Penality_Goals']+rslt_df['Assist']+rslt_df['Goals_Assist']\n"
          ]
        }
      ]
    },
    {
      "cell_type": "code",
      "source": [
        "rslt_df"
      ],
      "metadata": {
        "colab": {
          "base_uri": "https://localhost:8080/",
          "height": 191
        },
        "id": "psTm0z-ARx84",
        "outputId": "43aa0d86-aff8-43fc-83d6-3a2fe49b24ba"
      },
      "execution_count": null,
      "outputs": [
        {
          "output_type": "execute_result",
          "data": {
            "text/plain": [
              "          Matched_Play    Minutes     Goals    Assist  Goals_Assist  \\\n",
              "player 1           1.0  74.985119  0.062500  0.065476      0.127976   \n",
              "player 3           1.0  86.213992  0.061728  0.032922      0.094650   \n",
              "player 4           1.0  78.522088  0.076305  0.028112      0.104418   \n",
              "player 7           1.0  85.368280  0.056452  0.016129      0.072581   \n",
              "\n",
              "          Non_Penality_Goals  Yellow_Card  Red_Card  Total_contribute  \n",
              "player 1            0.059524     0.002976  0.157738          0.252976  \n",
              "player 3            0.061728     0.000000  0.176955          0.189300  \n",
              "player 4            0.076305     0.000000  0.100402          0.208835  \n",
              "player 7            0.056452     0.000000  0.206989          0.145161  "
            ],
            "text/html": [
              "\n",
              "  <div id=\"df-96a22183-8171-4411-a7d2-a672ff8b54f8\">\n",
              "    <div class=\"colab-df-container\">\n",
              "      <div>\n",
              "<style scoped>\n",
              "    .dataframe tbody tr th:only-of-type {\n",
              "        vertical-align: middle;\n",
              "    }\n",
              "\n",
              "    .dataframe tbody tr th {\n",
              "        vertical-align: top;\n",
              "    }\n",
              "\n",
              "    .dataframe thead th {\n",
              "        text-align: right;\n",
              "    }\n",
              "</style>\n",
              "<table border=\"1\" class=\"dataframe\">\n",
              "  <thead>\n",
              "    <tr style=\"text-align: right;\">\n",
              "      <th></th>\n",
              "      <th>Matched_Play</th>\n",
              "      <th>Minutes</th>\n",
              "      <th>Goals</th>\n",
              "      <th>Assist</th>\n",
              "      <th>Goals_Assist</th>\n",
              "      <th>Non_Penality_Goals</th>\n",
              "      <th>Yellow_Card</th>\n",
              "      <th>Red_Card</th>\n",
              "      <th>Total_contribute</th>\n",
              "    </tr>\n",
              "  </thead>\n",
              "  <tbody>\n",
              "    <tr>\n",
              "      <th>player 1</th>\n",
              "      <td>1.0</td>\n",
              "      <td>74.985119</td>\n",
              "      <td>0.062500</td>\n",
              "      <td>0.065476</td>\n",
              "      <td>0.127976</td>\n",
              "      <td>0.059524</td>\n",
              "      <td>0.002976</td>\n",
              "      <td>0.157738</td>\n",
              "      <td>0.252976</td>\n",
              "    </tr>\n",
              "    <tr>\n",
              "      <th>player 3</th>\n",
              "      <td>1.0</td>\n",
              "      <td>86.213992</td>\n",
              "      <td>0.061728</td>\n",
              "      <td>0.032922</td>\n",
              "      <td>0.094650</td>\n",
              "      <td>0.061728</td>\n",
              "      <td>0.000000</td>\n",
              "      <td>0.176955</td>\n",
              "      <td>0.189300</td>\n",
              "    </tr>\n",
              "    <tr>\n",
              "      <th>player 4</th>\n",
              "      <td>1.0</td>\n",
              "      <td>78.522088</td>\n",
              "      <td>0.076305</td>\n",
              "      <td>0.028112</td>\n",
              "      <td>0.104418</td>\n",
              "      <td>0.076305</td>\n",
              "      <td>0.000000</td>\n",
              "      <td>0.100402</td>\n",
              "      <td>0.208835</td>\n",
              "    </tr>\n",
              "    <tr>\n",
              "      <th>player 7</th>\n",
              "      <td>1.0</td>\n",
              "      <td>85.368280</td>\n",
              "      <td>0.056452</td>\n",
              "      <td>0.016129</td>\n",
              "      <td>0.072581</td>\n",
              "      <td>0.056452</td>\n",
              "      <td>0.000000</td>\n",
              "      <td>0.206989</td>\n",
              "      <td>0.145161</td>\n",
              "    </tr>\n",
              "  </tbody>\n",
              "</table>\n",
              "</div>\n",
              "      <button class=\"colab-df-convert\" onclick=\"convertToInteractive('df-96a22183-8171-4411-a7d2-a672ff8b54f8')\"\n",
              "              title=\"Convert this dataframe to an interactive table.\"\n",
              "              style=\"display:none;\">\n",
              "        \n",
              "  <svg xmlns=\"http://www.w3.org/2000/svg\" height=\"24px\"viewBox=\"0 0 24 24\"\n",
              "       width=\"24px\">\n",
              "    <path d=\"M0 0h24v24H0V0z\" fill=\"none\"/>\n",
              "    <path d=\"M18.56 5.44l.94 2.06.94-2.06 2.06-.94-2.06-.94-.94-2.06-.94 2.06-2.06.94zm-11 1L8.5 8.5l.94-2.06 2.06-.94-2.06-.94L8.5 2.5l-.94 2.06-2.06.94zm10 10l.94 2.06.94-2.06 2.06-.94-2.06-.94-.94-2.06-.94 2.06-2.06.94z\"/><path d=\"M17.41 7.96l-1.37-1.37c-.4-.4-.92-.59-1.43-.59-.52 0-1.04.2-1.43.59L10.3 9.45l-7.72 7.72c-.78.78-.78 2.05 0 2.83L4 21.41c.39.39.9.59 1.41.59.51 0 1.02-.2 1.41-.59l7.78-7.78 2.81-2.81c.8-.78.8-2.07 0-2.86zM5.41 20L4 18.59l7.72-7.72 1.47 1.35L5.41 20z\"/>\n",
              "  </svg>\n",
              "      </button>\n",
              "      \n",
              "  <style>\n",
              "    .colab-df-container {\n",
              "      display:flex;\n",
              "      flex-wrap:wrap;\n",
              "      gap: 12px;\n",
              "    }\n",
              "\n",
              "    .colab-df-convert {\n",
              "      background-color: #E8F0FE;\n",
              "      border: none;\n",
              "      border-radius: 50%;\n",
              "      cursor: pointer;\n",
              "      display: none;\n",
              "      fill: #1967D2;\n",
              "      height: 32px;\n",
              "      padding: 0 0 0 0;\n",
              "      width: 32px;\n",
              "    }\n",
              "\n",
              "    .colab-df-convert:hover {\n",
              "      background-color: #E2EBFA;\n",
              "      box-shadow: 0px 1px 2px rgba(60, 64, 67, 0.3), 0px 1px 3px 1px rgba(60, 64, 67, 0.15);\n",
              "      fill: #174EA6;\n",
              "    }\n",
              "\n",
              "    [theme=dark] .colab-df-convert {\n",
              "      background-color: #3B4455;\n",
              "      fill: #D2E3FC;\n",
              "    }\n",
              "\n",
              "    [theme=dark] .colab-df-convert:hover {\n",
              "      background-color: #434B5C;\n",
              "      box-shadow: 0px 1px 3px 1px rgba(0, 0, 0, 0.15);\n",
              "      filter: drop-shadow(0px 1px 2px rgba(0, 0, 0, 0.3));\n",
              "      fill: #FFFFFF;\n",
              "    }\n",
              "  </style>\n",
              "\n",
              "      <script>\n",
              "        const buttonEl =\n",
              "          document.querySelector('#df-96a22183-8171-4411-a7d2-a672ff8b54f8 button.colab-df-convert');\n",
              "        buttonEl.style.display =\n",
              "          google.colab.kernel.accessAllowed ? 'block' : 'none';\n",
              "\n",
              "        async function convertToInteractive(key) {\n",
              "          const element = document.querySelector('#df-96a22183-8171-4411-a7d2-a672ff8b54f8');\n",
              "          const dataTable =\n",
              "            await google.colab.kernel.invokeFunction('convertToInteractive',\n",
              "                                                     [key], {});\n",
              "          if (!dataTable) return;\n",
              "\n",
              "          const docLinkHtml = 'Like what you see? Visit the ' +\n",
              "            '<a target=\"_blank\" href=https://colab.research.google.com/notebooks/data_table.ipynb>data table notebook</a>'\n",
              "            + ' to learn more about interactive tables.';\n",
              "          element.innerHTML = '';\n",
              "          dataTable['output_type'] = 'display_data';\n",
              "          await google.colab.output.renderOutput(dataTable, element);\n",
              "          const docLink = document.createElement('div');\n",
              "          docLink.innerHTML = docLinkHtml;\n",
              "          element.appendChild(docLink);\n",
              "        }\n",
              "      </script>\n",
              "    </div>\n",
              "  </div>\n",
              "  "
            ]
          },
          "metadata": {},
          "execution_count": 41
        }
      ]
    },
    {
      "cell_type": "code",
      "source": [
        "rslt_df = rslt_df.sort_values('Total_contribute')"
      ],
      "metadata": {
        "id": "JQicmzGjUGxc"
      },
      "execution_count": null,
      "outputs": []
    },
    {
      "cell_type": "code",
      "source": [
        "rslt_df"
      ],
      "metadata": {
        "colab": {
          "base_uri": "https://localhost:8080/",
          "height": 191
        },
        "id": "-vLtve0gY3f8",
        "outputId": "701a7a17-1543-4464-bcfe-8b4867ee00f7"
      },
      "execution_count": null,
      "outputs": [
        {
          "output_type": "execute_result",
          "data": {
            "text/plain": [
              "          Matched_Play    Minutes     Goals    Assist  Goals_Assist  \\\n",
              "player 7           1.0  85.368280  0.056452  0.016129      0.072581   \n",
              "player 3           1.0  86.213992  0.061728  0.032922      0.094650   \n",
              "player 4           1.0  78.522088  0.076305  0.028112      0.104418   \n",
              "player 1           1.0  74.985119  0.062500  0.065476      0.127976   \n",
              "\n",
              "          Non_Penality_Goals  Yellow_Card  Red_Card  Total_contribute  \n",
              "player 7            0.056452     0.000000  0.206989          0.145161  \n",
              "player 3            0.061728     0.000000  0.176955          0.189300  \n",
              "player 4            0.076305     0.000000  0.100402          0.208835  \n",
              "player 1            0.059524     0.002976  0.157738          0.252976  "
            ],
            "text/html": [
              "\n",
              "  <div id=\"df-4ada0e3c-becf-413c-945e-f8e935f50cf8\">\n",
              "    <div class=\"colab-df-container\">\n",
              "      <div>\n",
              "<style scoped>\n",
              "    .dataframe tbody tr th:only-of-type {\n",
              "        vertical-align: middle;\n",
              "    }\n",
              "\n",
              "    .dataframe tbody tr th {\n",
              "        vertical-align: top;\n",
              "    }\n",
              "\n",
              "    .dataframe thead th {\n",
              "        text-align: right;\n",
              "    }\n",
              "</style>\n",
              "<table border=\"1\" class=\"dataframe\">\n",
              "  <thead>\n",
              "    <tr style=\"text-align: right;\">\n",
              "      <th></th>\n",
              "      <th>Matched_Play</th>\n",
              "      <th>Minutes</th>\n",
              "      <th>Goals</th>\n",
              "      <th>Assist</th>\n",
              "      <th>Goals_Assist</th>\n",
              "      <th>Non_Penality_Goals</th>\n",
              "      <th>Yellow_Card</th>\n",
              "      <th>Red_Card</th>\n",
              "      <th>Total_contribute</th>\n",
              "    </tr>\n",
              "  </thead>\n",
              "  <tbody>\n",
              "    <tr>\n",
              "      <th>player 7</th>\n",
              "      <td>1.0</td>\n",
              "      <td>85.368280</td>\n",
              "      <td>0.056452</td>\n",
              "      <td>0.016129</td>\n",
              "      <td>0.072581</td>\n",
              "      <td>0.056452</td>\n",
              "      <td>0.000000</td>\n",
              "      <td>0.206989</td>\n",
              "      <td>0.145161</td>\n",
              "    </tr>\n",
              "    <tr>\n",
              "      <th>player 3</th>\n",
              "      <td>1.0</td>\n",
              "      <td>86.213992</td>\n",
              "      <td>0.061728</td>\n",
              "      <td>0.032922</td>\n",
              "      <td>0.094650</td>\n",
              "      <td>0.061728</td>\n",
              "      <td>0.000000</td>\n",
              "      <td>0.176955</td>\n",
              "      <td>0.189300</td>\n",
              "    </tr>\n",
              "    <tr>\n",
              "      <th>player 4</th>\n",
              "      <td>1.0</td>\n",
              "      <td>78.522088</td>\n",
              "      <td>0.076305</td>\n",
              "      <td>0.028112</td>\n",
              "      <td>0.104418</td>\n",
              "      <td>0.076305</td>\n",
              "      <td>0.000000</td>\n",
              "      <td>0.100402</td>\n",
              "      <td>0.208835</td>\n",
              "    </tr>\n",
              "    <tr>\n",
              "      <th>player 1</th>\n",
              "      <td>1.0</td>\n",
              "      <td>74.985119</td>\n",
              "      <td>0.062500</td>\n",
              "      <td>0.065476</td>\n",
              "      <td>0.127976</td>\n",
              "      <td>0.059524</td>\n",
              "      <td>0.002976</td>\n",
              "      <td>0.157738</td>\n",
              "      <td>0.252976</td>\n",
              "    </tr>\n",
              "  </tbody>\n",
              "</table>\n",
              "</div>\n",
              "      <button class=\"colab-df-convert\" onclick=\"convertToInteractive('df-4ada0e3c-becf-413c-945e-f8e935f50cf8')\"\n",
              "              title=\"Convert this dataframe to an interactive table.\"\n",
              "              style=\"display:none;\">\n",
              "        \n",
              "  <svg xmlns=\"http://www.w3.org/2000/svg\" height=\"24px\"viewBox=\"0 0 24 24\"\n",
              "       width=\"24px\">\n",
              "    <path d=\"M0 0h24v24H0V0z\" fill=\"none\"/>\n",
              "    <path d=\"M18.56 5.44l.94 2.06.94-2.06 2.06-.94-2.06-.94-.94-2.06-.94 2.06-2.06.94zm-11 1L8.5 8.5l.94-2.06 2.06-.94-2.06-.94L8.5 2.5l-.94 2.06-2.06.94zm10 10l.94 2.06.94-2.06 2.06-.94-2.06-.94-.94-2.06-.94 2.06-2.06.94z\"/><path d=\"M17.41 7.96l-1.37-1.37c-.4-.4-.92-.59-1.43-.59-.52 0-1.04.2-1.43.59L10.3 9.45l-7.72 7.72c-.78.78-.78 2.05 0 2.83L4 21.41c.39.39.9.59 1.41.59.51 0 1.02-.2 1.41-.59l7.78-7.78 2.81-2.81c.8-.78.8-2.07 0-2.86zM5.41 20L4 18.59l7.72-7.72 1.47 1.35L5.41 20z\"/>\n",
              "  </svg>\n",
              "      </button>\n",
              "      \n",
              "  <style>\n",
              "    .colab-df-container {\n",
              "      display:flex;\n",
              "      flex-wrap:wrap;\n",
              "      gap: 12px;\n",
              "    }\n",
              "\n",
              "    .colab-df-convert {\n",
              "      background-color: #E8F0FE;\n",
              "      border: none;\n",
              "      border-radius: 50%;\n",
              "      cursor: pointer;\n",
              "      display: none;\n",
              "      fill: #1967D2;\n",
              "      height: 32px;\n",
              "      padding: 0 0 0 0;\n",
              "      width: 32px;\n",
              "    }\n",
              "\n",
              "    .colab-df-convert:hover {\n",
              "      background-color: #E2EBFA;\n",
              "      box-shadow: 0px 1px 2px rgba(60, 64, 67, 0.3), 0px 1px 3px 1px rgba(60, 64, 67, 0.15);\n",
              "      fill: #174EA6;\n",
              "    }\n",
              "\n",
              "    [theme=dark] .colab-df-convert {\n",
              "      background-color: #3B4455;\n",
              "      fill: #D2E3FC;\n",
              "    }\n",
              "\n",
              "    [theme=dark] .colab-df-convert:hover {\n",
              "      background-color: #434B5C;\n",
              "      box-shadow: 0px 1px 3px 1px rgba(0, 0, 0, 0.15);\n",
              "      filter: drop-shadow(0px 1px 2px rgba(0, 0, 0, 0.3));\n",
              "      fill: #FFFFFF;\n",
              "    }\n",
              "  </style>\n",
              "\n",
              "      <script>\n",
              "        const buttonEl =\n",
              "          document.querySelector('#df-4ada0e3c-becf-413c-945e-f8e935f50cf8 button.colab-df-convert');\n",
              "        buttonEl.style.display =\n",
              "          google.colab.kernel.accessAllowed ? 'block' : 'none';\n",
              "\n",
              "        async function convertToInteractive(key) {\n",
              "          const element = document.querySelector('#df-4ada0e3c-becf-413c-945e-f8e935f50cf8');\n",
              "          const dataTable =\n",
              "            await google.colab.kernel.invokeFunction('convertToInteractive',\n",
              "                                                     [key], {});\n",
              "          if (!dataTable) return;\n",
              "\n",
              "          const docLinkHtml = 'Like what you see? Visit the ' +\n",
              "            '<a target=\"_blank\" href=https://colab.research.google.com/notebooks/data_table.ipynb>data table notebook</a>'\n",
              "            + ' to learn more about interactive tables.';\n",
              "          element.innerHTML = '';\n",
              "          dataTable['output_type'] = 'display_data';\n",
              "          await google.colab.output.renderOutput(dataTable, element);\n",
              "          const docLink = document.createElement('div');\n",
              "          docLink.innerHTML = docLinkHtml;\n",
              "          element.appendChild(docLink);\n",
              "        }\n",
              "      </script>\n",
              "    </div>\n",
              "  </div>\n",
              "  "
            ]
          },
          "metadata": {},
          "execution_count": 43
        }
      ]
    },
    {
      "cell_type": "markdown",
      "source": [
        "## Conclusion\n",
        "          the best four defender for Manchester city:\n",
        "                  > Aymeric Laporte\n",
        "                  > Ruben Dias\n",
        "                  > Nathan Ake\n",
        "                  > Rodri"
      ],
      "metadata": {
        "id": "QYG0HPLFbi1z"
      }
    },
    {
      "cell_type": "markdown",
      "source": [
        "### Goal Keeper for Manchester City\n",
        "\n",
        "            1. Ederson\n",
        "            2. Stefan Ortega\n",
        "            3. Scott Carson"
      ],
      "metadata": {
        "id": "UhtqQYK4j6X9"
      }
    },
    {
      "cell_type": "code",
      "source": [
        "def Goal_Keeper_Stats(link,numb):\n",
        "    r = requests.get(link)\n",
        "    soup = bs(r.content)\n",
        "    contents = soup.prettify()\n",
        "    title_50 = soup.find(id=\"content\")\n",
        "    rank_50 = title_50.find(id=\"switcher_stats_keeper\")\n",
        "    rank = rank_50.find_all(id=\"stats\")\n",
        "    rankk_50 = rank_50.find_all('td')\n",
        "    s = rank_50.find_all(class_='right')\n",
        "    l = []\n",
        "    for row in s :\n",
        "      n1 = row.text.strip()\n",
        "      if n1=='':\n",
        "        n1 = 0\n",
        "      l.append(n1)\n",
        "    Percentage_Goal_saved = []\n",
        "    Total_Goal_Against = []\n",
        "    Total_Save_Goal = []\n",
        "    for i in range(len(l)//19):\n",
        "      Total_Goal_Against.append(l[19*i+6])\n",
        "      Total_Save_Goal.append(l[19*i+7])\n",
        "      Percentage_Goal_saved.append(l[19*i+8])\n",
        "    row = numb\n",
        "    data = pd.DataFrame({'Total_Goal_Against':Total_Goal_Against[:row],'Total_Save_Goal':Total_Save_Goal[:row],'Percentage_Goal_saved':Percentage_Goal_saved[:row]})\n",
        "    return data"
      ],
      "metadata": {
        "id": "RjjJX2GZ7TcF"
      },
      "execution_count": null,
      "outputs": []
    },
    {
      "cell_type": "markdown",
      "source": [
        "## 1. Ederson"
      ],
      "metadata": {
        "id": "34bmEEH5tOhO"
      }
    },
    {
      "cell_type": "code",
      "source": [
        "gk_1 = Goal_Keeper_Stats('https://fbref.com/en/players/3bb7b8b4/all_comps/Ederson-Stats---All-Competitions',26)"
      ],
      "metadata": {
        "id": "hx6SGA8Dbh66"
      },
      "execution_count": null,
      "outputs": []
    },
    {
      "cell_type": "markdown",
      "source": [
        "## 2. Stefan Ortega"
      ],
      "metadata": {
        "id": "h3zXWdXLuEAC"
      }
    },
    {
      "cell_type": "code",
      "source": [
        "gk_2 = Goal_Keeper_Stats('https://fbref.com/en/players/c1242d4e/all_comps/Stefan-Ortega-Stats---All-Competitions',22)"
      ],
      "metadata": {
        "id": "lmsdo1JYuAwx"
      },
      "execution_count": null,
      "outputs": []
    },
    {
      "cell_type": "markdown",
      "source": [
        "# 3.Scott Carson"
      ],
      "metadata": {
        "id": "BeBS3LJ_-oz2"
      }
    },
    {
      "cell_type": "code",
      "source": [
        "gk_3 = Goal_Keeper_Stats('https://fbref.com/en/players/3e1550ee/all_comps/Scott-Carson-Stats---All-Competitions',25)"
      ],
      "metadata": {
        "id": "97myRRi_-oPX"
      },
      "execution_count": null,
      "outputs": []
    },
    {
      "cell_type": "markdown",
      "source": [
        "## Statisticals Summary of Manchester GoalKeeper"
      ],
      "metadata": {
        "id": "TmfLmjZG-CRr"
      }
    },
    {
      "cell_type": "code",
      "source": [
        "def data_2(data):\n",
        "  data[['Percentage_Goal_saved']] = data[['Percentage_Goal_saved']].astype(str).astype(float)\n",
        "  converting = {'Total_Goal_Against':int,'Total_Save_Goal':int}\n",
        "  data = data.astype(converting)\n",
        "  #Average_Saved = sum(data['Percentage_Goal_saved'])/len(data['Percentage_Goal_saved'])\n",
        "  return data\n"
      ],
      "metadata": {
        "id": "dks4835n-Bst"
      },
      "execution_count": null,
      "outputs": []
    },
    {
      "cell_type": "markdown",
      "source": [
        "## GoalKeeper 1"
      ],
      "metadata": {
        "id": "SG0n43DHASTy"
      }
    },
    {
      "cell_type": "code",
      "source": [
        "G_K_1 = data_2(gk_1)\n",
        "G_K_1"
      ],
      "metadata": {
        "colab": {
          "base_uri": "https://localhost:8080/",
          "height": 862
        },
        "id": "NnMrXJDw__7U",
        "outputId": "ce577634-4e02-40da-cc6d-11a8cc082812"
      },
      "execution_count": null,
      "outputs": [
        {
          "output_type": "execute_result",
          "data": {
            "text/plain": [
              "    Total_Goal_Against  Total_Save_Goal  Percentage_Goal_saved\n",
              "0                    7                5                   71.4\n",
              "1                   76               53                   69.7\n",
              "2                   16               12                   75.0\n",
              "3                   65               47                   72.3\n",
              "4                   20               16                   80.0\n",
              "5                   18               14                   77.8\n",
              "6                   34               24                   73.5\n",
              "7                   73               56                   78.1\n",
              "8                   33               22                   75.8\n",
              "9                   80               54                   67.5\n",
              "10                  33               21                   72.7\n",
              "11                   0                0                    0.0\n",
              "12                   9                7                   77.8\n",
              "13                  81               58                   76.5\n",
              "14                  23               16                   73.9\n",
              "15                   4                2                   50.0\n",
              "16                  95               68                   73.7\n",
              "17                  22               17                   77.3\n",
              "18                  93               65                   77.4\n",
              "19                  28               15                   57.1\n",
              "20                   3                3                  100.0\n",
              "21                  83               57                   69.9\n",
              "22                  26               22                   88.5\n",
              "23                   3                1                   33.3\n",
              "24                   0                0                    0.0\n",
              "25                  77               46                   62.3"
            ],
            "text/html": [
              "\n",
              "  <div id=\"df-c8980d19-542f-48ac-86c7-2625d31b0d70\">\n",
              "    <div class=\"colab-df-container\">\n",
              "      <div>\n",
              "<style scoped>\n",
              "    .dataframe tbody tr th:only-of-type {\n",
              "        vertical-align: middle;\n",
              "    }\n",
              "\n",
              "    .dataframe tbody tr th {\n",
              "        vertical-align: top;\n",
              "    }\n",
              "\n",
              "    .dataframe thead th {\n",
              "        text-align: right;\n",
              "    }\n",
              "</style>\n",
              "<table border=\"1\" class=\"dataframe\">\n",
              "  <thead>\n",
              "    <tr style=\"text-align: right;\">\n",
              "      <th></th>\n",
              "      <th>Total_Goal_Against</th>\n",
              "      <th>Total_Save_Goal</th>\n",
              "      <th>Percentage_Goal_saved</th>\n",
              "    </tr>\n",
              "  </thead>\n",
              "  <tbody>\n",
              "    <tr>\n",
              "      <th>0</th>\n",
              "      <td>7</td>\n",
              "      <td>5</td>\n",
              "      <td>71.4</td>\n",
              "    </tr>\n",
              "    <tr>\n",
              "      <th>1</th>\n",
              "      <td>76</td>\n",
              "      <td>53</td>\n",
              "      <td>69.7</td>\n",
              "    </tr>\n",
              "    <tr>\n",
              "      <th>2</th>\n",
              "      <td>16</td>\n",
              "      <td>12</td>\n",
              "      <td>75.0</td>\n",
              "    </tr>\n",
              "    <tr>\n",
              "      <th>3</th>\n",
              "      <td>65</td>\n",
              "      <td>47</td>\n",
              "      <td>72.3</td>\n",
              "    </tr>\n",
              "    <tr>\n",
              "      <th>4</th>\n",
              "      <td>20</td>\n",
              "      <td>16</td>\n",
              "      <td>80.0</td>\n",
              "    </tr>\n",
              "    <tr>\n",
              "      <th>5</th>\n",
              "      <td>18</td>\n",
              "      <td>14</td>\n",
              "      <td>77.8</td>\n",
              "    </tr>\n",
              "    <tr>\n",
              "      <th>6</th>\n",
              "      <td>34</td>\n",
              "      <td>24</td>\n",
              "      <td>73.5</td>\n",
              "    </tr>\n",
              "    <tr>\n",
              "      <th>7</th>\n",
              "      <td>73</td>\n",
              "      <td>56</td>\n",
              "      <td>78.1</td>\n",
              "    </tr>\n",
              "    <tr>\n",
              "      <th>8</th>\n",
              "      <td>33</td>\n",
              "      <td>22</td>\n",
              "      <td>75.8</td>\n",
              "    </tr>\n",
              "    <tr>\n",
              "      <th>9</th>\n",
              "      <td>80</td>\n",
              "      <td>54</td>\n",
              "      <td>67.5</td>\n",
              "    </tr>\n",
              "    <tr>\n",
              "      <th>10</th>\n",
              "      <td>33</td>\n",
              "      <td>21</td>\n",
              "      <td>72.7</td>\n",
              "    </tr>\n",
              "    <tr>\n",
              "      <th>11</th>\n",
              "      <td>0</td>\n",
              "      <td>0</td>\n",
              "      <td>0.0</td>\n",
              "    </tr>\n",
              "    <tr>\n",
              "      <th>12</th>\n",
              "      <td>9</td>\n",
              "      <td>7</td>\n",
              "      <td>77.8</td>\n",
              "    </tr>\n",
              "    <tr>\n",
              "      <th>13</th>\n",
              "      <td>81</td>\n",
              "      <td>58</td>\n",
              "      <td>76.5</td>\n",
              "    </tr>\n",
              "    <tr>\n",
              "      <th>14</th>\n",
              "      <td>23</td>\n",
              "      <td>16</td>\n",
              "      <td>73.9</td>\n",
              "    </tr>\n",
              "    <tr>\n",
              "      <th>15</th>\n",
              "      <td>4</td>\n",
              "      <td>2</td>\n",
              "      <td>50.0</td>\n",
              "    </tr>\n",
              "    <tr>\n",
              "      <th>16</th>\n",
              "      <td>95</td>\n",
              "      <td>68</td>\n",
              "      <td>73.7</td>\n",
              "    </tr>\n",
              "    <tr>\n",
              "      <th>17</th>\n",
              "      <td>22</td>\n",
              "      <td>17</td>\n",
              "      <td>77.3</td>\n",
              "    </tr>\n",
              "    <tr>\n",
              "      <th>18</th>\n",
              "      <td>93</td>\n",
              "      <td>65</td>\n",
              "      <td>77.4</td>\n",
              "    </tr>\n",
              "    <tr>\n",
              "      <th>19</th>\n",
              "      <td>28</td>\n",
              "      <td>15</td>\n",
              "      <td>57.1</td>\n",
              "    </tr>\n",
              "    <tr>\n",
              "      <th>20</th>\n",
              "      <td>3</td>\n",
              "      <td>3</td>\n",
              "      <td>100.0</td>\n",
              "    </tr>\n",
              "    <tr>\n",
              "      <th>21</th>\n",
              "      <td>83</td>\n",
              "      <td>57</td>\n",
              "      <td>69.9</td>\n",
              "    </tr>\n",
              "    <tr>\n",
              "      <th>22</th>\n",
              "      <td>26</td>\n",
              "      <td>22</td>\n",
              "      <td>88.5</td>\n",
              "    </tr>\n",
              "    <tr>\n",
              "      <th>23</th>\n",
              "      <td>3</td>\n",
              "      <td>1</td>\n",
              "      <td>33.3</td>\n",
              "    </tr>\n",
              "    <tr>\n",
              "      <th>24</th>\n",
              "      <td>0</td>\n",
              "      <td>0</td>\n",
              "      <td>0.0</td>\n",
              "    </tr>\n",
              "    <tr>\n",
              "      <th>25</th>\n",
              "      <td>77</td>\n",
              "      <td>46</td>\n",
              "      <td>62.3</td>\n",
              "    </tr>\n",
              "  </tbody>\n",
              "</table>\n",
              "</div>\n",
              "      <button class=\"colab-df-convert\" onclick=\"convertToInteractive('df-c8980d19-542f-48ac-86c7-2625d31b0d70')\"\n",
              "              title=\"Convert this dataframe to an interactive table.\"\n",
              "              style=\"display:none;\">\n",
              "        \n",
              "  <svg xmlns=\"http://www.w3.org/2000/svg\" height=\"24px\"viewBox=\"0 0 24 24\"\n",
              "       width=\"24px\">\n",
              "    <path d=\"M0 0h24v24H0V0z\" fill=\"none\"/>\n",
              "    <path d=\"M18.56 5.44l.94 2.06.94-2.06 2.06-.94-2.06-.94-.94-2.06-.94 2.06-2.06.94zm-11 1L8.5 8.5l.94-2.06 2.06-.94-2.06-.94L8.5 2.5l-.94 2.06-2.06.94zm10 10l.94 2.06.94-2.06 2.06-.94-2.06-.94-.94-2.06-.94 2.06-2.06.94z\"/><path d=\"M17.41 7.96l-1.37-1.37c-.4-.4-.92-.59-1.43-.59-.52 0-1.04.2-1.43.59L10.3 9.45l-7.72 7.72c-.78.78-.78 2.05 0 2.83L4 21.41c.39.39.9.59 1.41.59.51 0 1.02-.2 1.41-.59l7.78-7.78 2.81-2.81c.8-.78.8-2.07 0-2.86zM5.41 20L4 18.59l7.72-7.72 1.47 1.35L5.41 20z\"/>\n",
              "  </svg>\n",
              "      </button>\n",
              "      \n",
              "  <style>\n",
              "    .colab-df-container {\n",
              "      display:flex;\n",
              "      flex-wrap:wrap;\n",
              "      gap: 12px;\n",
              "    }\n",
              "\n",
              "    .colab-df-convert {\n",
              "      background-color: #E8F0FE;\n",
              "      border: none;\n",
              "      border-radius: 50%;\n",
              "      cursor: pointer;\n",
              "      display: none;\n",
              "      fill: #1967D2;\n",
              "      height: 32px;\n",
              "      padding: 0 0 0 0;\n",
              "      width: 32px;\n",
              "    }\n",
              "\n",
              "    .colab-df-convert:hover {\n",
              "      background-color: #E2EBFA;\n",
              "      box-shadow: 0px 1px 2px rgba(60, 64, 67, 0.3), 0px 1px 3px 1px rgba(60, 64, 67, 0.15);\n",
              "      fill: #174EA6;\n",
              "    }\n",
              "\n",
              "    [theme=dark] .colab-df-convert {\n",
              "      background-color: #3B4455;\n",
              "      fill: #D2E3FC;\n",
              "    }\n",
              "\n",
              "    [theme=dark] .colab-df-convert:hover {\n",
              "      background-color: #434B5C;\n",
              "      box-shadow: 0px 1px 3px 1px rgba(0, 0, 0, 0.15);\n",
              "      filter: drop-shadow(0px 1px 2px rgba(0, 0, 0, 0.3));\n",
              "      fill: #FFFFFF;\n",
              "    }\n",
              "  </style>\n",
              "\n",
              "      <script>\n",
              "        const buttonEl =\n",
              "          document.querySelector('#df-c8980d19-542f-48ac-86c7-2625d31b0d70 button.colab-df-convert');\n",
              "        buttonEl.style.display =\n",
              "          google.colab.kernel.accessAllowed ? 'block' : 'none';\n",
              "\n",
              "        async function convertToInteractive(key) {\n",
              "          const element = document.querySelector('#df-c8980d19-542f-48ac-86c7-2625d31b0d70');\n",
              "          const dataTable =\n",
              "            await google.colab.kernel.invokeFunction('convertToInteractive',\n",
              "                                                     [key], {});\n",
              "          if (!dataTable) return;\n",
              "\n",
              "          const docLinkHtml = 'Like what you see? Visit the ' +\n",
              "            '<a target=\"_blank\" href=https://colab.research.google.com/notebooks/data_table.ipynb>data table notebook</a>'\n",
              "            + ' to learn more about interactive tables.';\n",
              "          element.innerHTML = '';\n",
              "          dataTable['output_type'] = 'display_data';\n",
              "          await google.colab.output.renderOutput(dataTable, element);\n",
              "          const docLink = document.createElement('div');\n",
              "          docLink.innerHTML = docLinkHtml;\n",
              "          element.appendChild(docLink);\n",
              "        }\n",
              "      </script>\n",
              "    </div>\n",
              "  </div>\n",
              "  "
            ]
          },
          "metadata": {},
          "execution_count": 101
        }
      ]
    },
    {
      "cell_type": "code",
      "source": [
        "G_K_1['Percentage_Goal_saved'].mean()"
      ],
      "metadata": {
        "colab": {
          "base_uri": "https://localhost:8080/"
        },
        "id": "g1d9vxc4FWiv",
        "outputId": "dedd6835-fd12-465f-9c76-77e6b13a4f75"
      },
      "execution_count": null,
      "outputs": [
        {
          "output_type": "execute_result",
          "data": {
            "text/plain": [
              "66.59615384615384"
            ]
          },
          "metadata": {},
          "execution_count": 113
        }
      ]
    },
    {
      "cell_type": "markdown",
      "source": [
        "# GoalKeeper 2"
      ],
      "metadata": {
        "id": "MZhTEUuEAb18"
      }
    },
    {
      "cell_type": "code",
      "source": [
        "G_K_2 = data_2(gk_2)\n",
        "G_K_2"
      ],
      "metadata": {
        "colab": {
          "base_uri": "https://localhost:8080/",
          "height": 740
        },
        "id": "4BV1GEa6AZ3I",
        "outputId": "4097828d-d1db-4120-a461-b533e4ed32d4"
      },
      "execution_count": null,
      "outputs": [
        {
          "output_type": "execute_result",
          "data": {
            "text/plain": [
              "    Total_Goal_Against  Total_Save_Goal  Percentage_Goal_saved\n",
              "0                   88               60                   68.2\n",
              "1                    6                5                   83.3\n",
              "2                   62               44                   71.0\n",
              "3                   71               47                   66.2\n",
              "4                    0                0                    0.0\n",
              "5                   61               42                   68.9\n",
              "6                    0                0                    0.0\n",
              "7                   79               53                   72.2\n",
              "8                   11                9                   81.8\n",
              "9                  160              113                   71.9\n",
              "10                  10                7                   70.0\n",
              "11                 133               90                   67.7\n",
              "12                 126              100                   78.6\n",
              "13                  11                8                   72.7\n",
              "14                 170              118                   72.4\n",
              "15                   3                2                   66.7\n",
              "16                 176              125                   73.9\n",
              "17                  14                8                   57.1\n",
              "18                   6                5                   83.3\n",
              "19                  11                7                   63.6\n",
              "20                   8                8                  100.0\n",
              "21                  15               14                   93.3"
            ],
            "text/html": [
              "\n",
              "  <div id=\"df-346c0a0d-3b6a-489f-b26b-66cb5a044475\">\n",
              "    <div class=\"colab-df-container\">\n",
              "      <div>\n",
              "<style scoped>\n",
              "    .dataframe tbody tr th:only-of-type {\n",
              "        vertical-align: middle;\n",
              "    }\n",
              "\n",
              "    .dataframe tbody tr th {\n",
              "        vertical-align: top;\n",
              "    }\n",
              "\n",
              "    .dataframe thead th {\n",
              "        text-align: right;\n",
              "    }\n",
              "</style>\n",
              "<table border=\"1\" class=\"dataframe\">\n",
              "  <thead>\n",
              "    <tr style=\"text-align: right;\">\n",
              "      <th></th>\n",
              "      <th>Total_Goal_Against</th>\n",
              "      <th>Total_Save_Goal</th>\n",
              "      <th>Percentage_Goal_saved</th>\n",
              "    </tr>\n",
              "  </thead>\n",
              "  <tbody>\n",
              "    <tr>\n",
              "      <th>0</th>\n",
              "      <td>88</td>\n",
              "      <td>60</td>\n",
              "      <td>68.2</td>\n",
              "    </tr>\n",
              "    <tr>\n",
              "      <th>1</th>\n",
              "      <td>6</td>\n",
              "      <td>5</td>\n",
              "      <td>83.3</td>\n",
              "    </tr>\n",
              "    <tr>\n",
              "      <th>2</th>\n",
              "      <td>62</td>\n",
              "      <td>44</td>\n",
              "      <td>71.0</td>\n",
              "    </tr>\n",
              "    <tr>\n",
              "      <th>3</th>\n",
              "      <td>71</td>\n",
              "      <td>47</td>\n",
              "      <td>66.2</td>\n",
              "    </tr>\n",
              "    <tr>\n",
              "      <th>4</th>\n",
              "      <td>0</td>\n",
              "      <td>0</td>\n",
              "      <td>0.0</td>\n",
              "    </tr>\n",
              "    <tr>\n",
              "      <th>5</th>\n",
              "      <td>61</td>\n",
              "      <td>42</td>\n",
              "      <td>68.9</td>\n",
              "    </tr>\n",
              "    <tr>\n",
              "      <th>6</th>\n",
              "      <td>0</td>\n",
              "      <td>0</td>\n",
              "      <td>0.0</td>\n",
              "    </tr>\n",
              "    <tr>\n",
              "      <th>7</th>\n",
              "      <td>79</td>\n",
              "      <td>53</td>\n",
              "      <td>72.2</td>\n",
              "    </tr>\n",
              "    <tr>\n",
              "      <th>8</th>\n",
              "      <td>11</td>\n",
              "      <td>9</td>\n",
              "      <td>81.8</td>\n",
              "    </tr>\n",
              "    <tr>\n",
              "      <th>9</th>\n",
              "      <td>160</td>\n",
              "      <td>113</td>\n",
              "      <td>71.9</td>\n",
              "    </tr>\n",
              "    <tr>\n",
              "      <th>10</th>\n",
              "      <td>10</td>\n",
              "      <td>7</td>\n",
              "      <td>70.0</td>\n",
              "    </tr>\n",
              "    <tr>\n",
              "      <th>11</th>\n",
              "      <td>133</td>\n",
              "      <td>90</td>\n",
              "      <td>67.7</td>\n",
              "    </tr>\n",
              "    <tr>\n",
              "      <th>12</th>\n",
              "      <td>126</td>\n",
              "      <td>100</td>\n",
              "      <td>78.6</td>\n",
              "    </tr>\n",
              "    <tr>\n",
              "      <th>13</th>\n",
              "      <td>11</td>\n",
              "      <td>8</td>\n",
              "      <td>72.7</td>\n",
              "    </tr>\n",
              "    <tr>\n",
              "      <th>14</th>\n",
              "      <td>170</td>\n",
              "      <td>118</td>\n",
              "      <td>72.4</td>\n",
              "    </tr>\n",
              "    <tr>\n",
              "      <th>15</th>\n",
              "      <td>3</td>\n",
              "      <td>2</td>\n",
              "      <td>66.7</td>\n",
              "    </tr>\n",
              "    <tr>\n",
              "      <th>16</th>\n",
              "      <td>176</td>\n",
              "      <td>125</td>\n",
              "      <td>73.9</td>\n",
              "    </tr>\n",
              "    <tr>\n",
              "      <th>17</th>\n",
              "      <td>14</td>\n",
              "      <td>8</td>\n",
              "      <td>57.1</td>\n",
              "    </tr>\n",
              "    <tr>\n",
              "      <th>18</th>\n",
              "      <td>6</td>\n",
              "      <td>5</td>\n",
              "      <td>83.3</td>\n",
              "    </tr>\n",
              "    <tr>\n",
              "      <th>19</th>\n",
              "      <td>11</td>\n",
              "      <td>7</td>\n",
              "      <td>63.6</td>\n",
              "    </tr>\n",
              "    <tr>\n",
              "      <th>20</th>\n",
              "      <td>8</td>\n",
              "      <td>8</td>\n",
              "      <td>100.0</td>\n",
              "    </tr>\n",
              "    <tr>\n",
              "      <th>21</th>\n",
              "      <td>15</td>\n",
              "      <td>14</td>\n",
              "      <td>93.3</td>\n",
              "    </tr>\n",
              "  </tbody>\n",
              "</table>\n",
              "</div>\n",
              "      <button class=\"colab-df-convert\" onclick=\"convertToInteractive('df-346c0a0d-3b6a-489f-b26b-66cb5a044475')\"\n",
              "              title=\"Convert this dataframe to an interactive table.\"\n",
              "              style=\"display:none;\">\n",
              "        \n",
              "  <svg xmlns=\"http://www.w3.org/2000/svg\" height=\"24px\"viewBox=\"0 0 24 24\"\n",
              "       width=\"24px\">\n",
              "    <path d=\"M0 0h24v24H0V0z\" fill=\"none\"/>\n",
              "    <path d=\"M18.56 5.44l.94 2.06.94-2.06 2.06-.94-2.06-.94-.94-2.06-.94 2.06-2.06.94zm-11 1L8.5 8.5l.94-2.06 2.06-.94-2.06-.94L8.5 2.5l-.94 2.06-2.06.94zm10 10l.94 2.06.94-2.06 2.06-.94-2.06-.94-.94-2.06-.94 2.06-2.06.94z\"/><path d=\"M17.41 7.96l-1.37-1.37c-.4-.4-.92-.59-1.43-.59-.52 0-1.04.2-1.43.59L10.3 9.45l-7.72 7.72c-.78.78-.78 2.05 0 2.83L4 21.41c.39.39.9.59 1.41.59.51 0 1.02-.2 1.41-.59l7.78-7.78 2.81-2.81c.8-.78.8-2.07 0-2.86zM5.41 20L4 18.59l7.72-7.72 1.47 1.35L5.41 20z\"/>\n",
              "  </svg>\n",
              "      </button>\n",
              "      \n",
              "  <style>\n",
              "    .colab-df-container {\n",
              "      display:flex;\n",
              "      flex-wrap:wrap;\n",
              "      gap: 12px;\n",
              "    }\n",
              "\n",
              "    .colab-df-convert {\n",
              "      background-color: #E8F0FE;\n",
              "      border: none;\n",
              "      border-radius: 50%;\n",
              "      cursor: pointer;\n",
              "      display: none;\n",
              "      fill: #1967D2;\n",
              "      height: 32px;\n",
              "      padding: 0 0 0 0;\n",
              "      width: 32px;\n",
              "    }\n",
              "\n",
              "    .colab-df-convert:hover {\n",
              "      background-color: #E2EBFA;\n",
              "      box-shadow: 0px 1px 2px rgba(60, 64, 67, 0.3), 0px 1px 3px 1px rgba(60, 64, 67, 0.15);\n",
              "      fill: #174EA6;\n",
              "    }\n",
              "\n",
              "    [theme=dark] .colab-df-convert {\n",
              "      background-color: #3B4455;\n",
              "      fill: #D2E3FC;\n",
              "    }\n",
              "\n",
              "    [theme=dark] .colab-df-convert:hover {\n",
              "      background-color: #434B5C;\n",
              "      box-shadow: 0px 1px 3px 1px rgba(0, 0, 0, 0.15);\n",
              "      filter: drop-shadow(0px 1px 2px rgba(0, 0, 0, 0.3));\n",
              "      fill: #FFFFFF;\n",
              "    }\n",
              "  </style>\n",
              "\n",
              "      <script>\n",
              "        const buttonEl =\n",
              "          document.querySelector('#df-346c0a0d-3b6a-489f-b26b-66cb5a044475 button.colab-df-convert');\n",
              "        buttonEl.style.display =\n",
              "          google.colab.kernel.accessAllowed ? 'block' : 'none';\n",
              "\n",
              "        async function convertToInteractive(key) {\n",
              "          const element = document.querySelector('#df-346c0a0d-3b6a-489f-b26b-66cb5a044475');\n",
              "          const dataTable =\n",
              "            await google.colab.kernel.invokeFunction('convertToInteractive',\n",
              "                                                     [key], {});\n",
              "          if (!dataTable) return;\n",
              "\n",
              "          const docLinkHtml = 'Like what you see? Visit the ' +\n",
              "            '<a target=\"_blank\" href=https://colab.research.google.com/notebooks/data_table.ipynb>data table notebook</a>'\n",
              "            + ' to learn more about interactive tables.';\n",
              "          element.innerHTML = '';\n",
              "          dataTable['output_type'] = 'display_data';\n",
              "          await google.colab.output.renderOutput(dataTable, element);\n",
              "          const docLink = document.createElement('div');\n",
              "          docLink.innerHTML = docLinkHtml;\n",
              "          element.appendChild(docLink);\n",
              "        }\n",
              "      </script>\n",
              "    </div>\n",
              "  </div>\n",
              "  "
            ]
          },
          "metadata": {},
          "execution_count": 102
        }
      ]
    },
    {
      "cell_type": "code",
      "source": [
        "G_K_3 = data_2(gk_3)\n",
        "G_K_3"
      ],
      "metadata": {
        "colab": {
          "base_uri": "https://localhost:8080/",
          "height": 832
        },
        "id": "s6MLJTuGCwFk",
        "outputId": "eb092626-2787-440a-d3b2-e3cc7e20627c"
      },
      "execution_count": null,
      "outputs": [
        {
          "output_type": "execute_result",
          "data": {
            "text/plain": [
              "    Total_Goal_Against  Total_Save_Goal  Percentage_Goal_saved\n",
              "0                   13               10                   76.9\n",
              "1                    7                6                   85.7\n",
              "2                   20               17                   85.0\n",
              "3                   44               39                   88.6\n",
              "4                  233              178                   76.4\n",
              "5                  156              110                   70.5\n",
              "6                  211              147                   69.7\n",
              "7                  206              161                   78.2\n",
              "8                  151               93                   61.6\n",
              "9                  124               92                   74.2\n",
              "10                 114               81                   71.1\n",
              "11                  62               40                   64.5\n",
              "12                  16               12                   75.0\n",
              "13                 119               75                   63.0\n",
              "14                 114               82                   71.9\n",
              "15                   0                0                    0.0\n",
              "16                 177              127                   72.9\n",
              "17                   6                5                   83.3\n",
              "18                   0                0                    0.0\n",
              "19                 145               97                   69.7\n",
              "20                  10                8                   80.0\n",
              "21                 108               70                   63.9\n",
              "22                  14                9                   64.3\n",
              "23                   5                1                   60.0\n",
              "24                   1                1                  100.0"
            ],
            "text/html": [
              "\n",
              "  <div id=\"df-5cc7e80f-c60d-4bdb-801b-c93272b8c2c7\">\n",
              "    <div class=\"colab-df-container\">\n",
              "      <div>\n",
              "<style scoped>\n",
              "    .dataframe tbody tr th:only-of-type {\n",
              "        vertical-align: middle;\n",
              "    }\n",
              "\n",
              "    .dataframe tbody tr th {\n",
              "        vertical-align: top;\n",
              "    }\n",
              "\n",
              "    .dataframe thead th {\n",
              "        text-align: right;\n",
              "    }\n",
              "</style>\n",
              "<table border=\"1\" class=\"dataframe\">\n",
              "  <thead>\n",
              "    <tr style=\"text-align: right;\">\n",
              "      <th></th>\n",
              "      <th>Total_Goal_Against</th>\n",
              "      <th>Total_Save_Goal</th>\n",
              "      <th>Percentage_Goal_saved</th>\n",
              "    </tr>\n",
              "  </thead>\n",
              "  <tbody>\n",
              "    <tr>\n",
              "      <th>0</th>\n",
              "      <td>13</td>\n",
              "      <td>10</td>\n",
              "      <td>76.9</td>\n",
              "    </tr>\n",
              "    <tr>\n",
              "      <th>1</th>\n",
              "      <td>7</td>\n",
              "      <td>6</td>\n",
              "      <td>85.7</td>\n",
              "    </tr>\n",
              "    <tr>\n",
              "      <th>2</th>\n",
              "      <td>20</td>\n",
              "      <td>17</td>\n",
              "      <td>85.0</td>\n",
              "    </tr>\n",
              "    <tr>\n",
              "      <th>3</th>\n",
              "      <td>44</td>\n",
              "      <td>39</td>\n",
              "      <td>88.6</td>\n",
              "    </tr>\n",
              "    <tr>\n",
              "      <th>4</th>\n",
              "      <td>233</td>\n",
              "      <td>178</td>\n",
              "      <td>76.4</td>\n",
              "    </tr>\n",
              "    <tr>\n",
              "      <th>5</th>\n",
              "      <td>156</td>\n",
              "      <td>110</td>\n",
              "      <td>70.5</td>\n",
              "    </tr>\n",
              "    <tr>\n",
              "      <th>6</th>\n",
              "      <td>211</td>\n",
              "      <td>147</td>\n",
              "      <td>69.7</td>\n",
              "    </tr>\n",
              "    <tr>\n",
              "      <th>7</th>\n",
              "      <td>206</td>\n",
              "      <td>161</td>\n",
              "      <td>78.2</td>\n",
              "    </tr>\n",
              "    <tr>\n",
              "      <th>8</th>\n",
              "      <td>151</td>\n",
              "      <td>93</td>\n",
              "      <td>61.6</td>\n",
              "    </tr>\n",
              "    <tr>\n",
              "      <th>9</th>\n",
              "      <td>124</td>\n",
              "      <td>92</td>\n",
              "      <td>74.2</td>\n",
              "    </tr>\n",
              "    <tr>\n",
              "      <th>10</th>\n",
              "      <td>114</td>\n",
              "      <td>81</td>\n",
              "      <td>71.1</td>\n",
              "    </tr>\n",
              "    <tr>\n",
              "      <th>11</th>\n",
              "      <td>62</td>\n",
              "      <td>40</td>\n",
              "      <td>64.5</td>\n",
              "    </tr>\n",
              "    <tr>\n",
              "      <th>12</th>\n",
              "      <td>16</td>\n",
              "      <td>12</td>\n",
              "      <td>75.0</td>\n",
              "    </tr>\n",
              "    <tr>\n",
              "      <th>13</th>\n",
              "      <td>119</td>\n",
              "      <td>75</td>\n",
              "      <td>63.0</td>\n",
              "    </tr>\n",
              "    <tr>\n",
              "      <th>14</th>\n",
              "      <td>114</td>\n",
              "      <td>82</td>\n",
              "      <td>71.9</td>\n",
              "    </tr>\n",
              "    <tr>\n",
              "      <th>15</th>\n",
              "      <td>0</td>\n",
              "      <td>0</td>\n",
              "      <td>0.0</td>\n",
              "    </tr>\n",
              "    <tr>\n",
              "      <th>16</th>\n",
              "      <td>177</td>\n",
              "      <td>127</td>\n",
              "      <td>72.9</td>\n",
              "    </tr>\n",
              "    <tr>\n",
              "      <th>17</th>\n",
              "      <td>6</td>\n",
              "      <td>5</td>\n",
              "      <td>83.3</td>\n",
              "    </tr>\n",
              "    <tr>\n",
              "      <th>18</th>\n",
              "      <td>0</td>\n",
              "      <td>0</td>\n",
              "      <td>0.0</td>\n",
              "    </tr>\n",
              "    <tr>\n",
              "      <th>19</th>\n",
              "      <td>145</td>\n",
              "      <td>97</td>\n",
              "      <td>69.7</td>\n",
              "    </tr>\n",
              "    <tr>\n",
              "      <th>20</th>\n",
              "      <td>10</td>\n",
              "      <td>8</td>\n",
              "      <td>80.0</td>\n",
              "    </tr>\n",
              "    <tr>\n",
              "      <th>21</th>\n",
              "      <td>108</td>\n",
              "      <td>70</td>\n",
              "      <td>63.9</td>\n",
              "    </tr>\n",
              "    <tr>\n",
              "      <th>22</th>\n",
              "      <td>14</td>\n",
              "      <td>9</td>\n",
              "      <td>64.3</td>\n",
              "    </tr>\n",
              "    <tr>\n",
              "      <th>23</th>\n",
              "      <td>5</td>\n",
              "      <td>1</td>\n",
              "      <td>60.0</td>\n",
              "    </tr>\n",
              "    <tr>\n",
              "      <th>24</th>\n",
              "      <td>1</td>\n",
              "      <td>1</td>\n",
              "      <td>100.0</td>\n",
              "    </tr>\n",
              "  </tbody>\n",
              "</table>\n",
              "</div>\n",
              "      <button class=\"colab-df-convert\" onclick=\"convertToInteractive('df-5cc7e80f-c60d-4bdb-801b-c93272b8c2c7')\"\n",
              "              title=\"Convert this dataframe to an interactive table.\"\n",
              "              style=\"display:none;\">\n",
              "        \n",
              "  <svg xmlns=\"http://www.w3.org/2000/svg\" height=\"24px\"viewBox=\"0 0 24 24\"\n",
              "       width=\"24px\">\n",
              "    <path d=\"M0 0h24v24H0V0z\" fill=\"none\"/>\n",
              "    <path d=\"M18.56 5.44l.94 2.06.94-2.06 2.06-.94-2.06-.94-.94-2.06-.94 2.06-2.06.94zm-11 1L8.5 8.5l.94-2.06 2.06-.94-2.06-.94L8.5 2.5l-.94 2.06-2.06.94zm10 10l.94 2.06.94-2.06 2.06-.94-2.06-.94-.94-2.06-.94 2.06-2.06.94z\"/><path d=\"M17.41 7.96l-1.37-1.37c-.4-.4-.92-.59-1.43-.59-.52 0-1.04.2-1.43.59L10.3 9.45l-7.72 7.72c-.78.78-.78 2.05 0 2.83L4 21.41c.39.39.9.59 1.41.59.51 0 1.02-.2 1.41-.59l7.78-7.78 2.81-2.81c.8-.78.8-2.07 0-2.86zM5.41 20L4 18.59l7.72-7.72 1.47 1.35L5.41 20z\"/>\n",
              "  </svg>\n",
              "      </button>\n",
              "      \n",
              "  <style>\n",
              "    .colab-df-container {\n",
              "      display:flex;\n",
              "      flex-wrap:wrap;\n",
              "      gap: 12px;\n",
              "    }\n",
              "\n",
              "    .colab-df-convert {\n",
              "      background-color: #E8F0FE;\n",
              "      border: none;\n",
              "      border-radius: 50%;\n",
              "      cursor: pointer;\n",
              "      display: none;\n",
              "      fill: #1967D2;\n",
              "      height: 32px;\n",
              "      padding: 0 0 0 0;\n",
              "      width: 32px;\n",
              "    }\n",
              "\n",
              "    .colab-df-convert:hover {\n",
              "      background-color: #E2EBFA;\n",
              "      box-shadow: 0px 1px 2px rgba(60, 64, 67, 0.3), 0px 1px 3px 1px rgba(60, 64, 67, 0.15);\n",
              "      fill: #174EA6;\n",
              "    }\n",
              "\n",
              "    [theme=dark] .colab-df-convert {\n",
              "      background-color: #3B4455;\n",
              "      fill: #D2E3FC;\n",
              "    }\n",
              "\n",
              "    [theme=dark] .colab-df-convert:hover {\n",
              "      background-color: #434B5C;\n",
              "      box-shadow: 0px 1px 3px 1px rgba(0, 0, 0, 0.15);\n",
              "      filter: drop-shadow(0px 1px 2px rgba(0, 0, 0, 0.3));\n",
              "      fill: #FFFFFF;\n",
              "    }\n",
              "  </style>\n",
              "\n",
              "      <script>\n",
              "        const buttonEl =\n",
              "          document.querySelector('#df-5cc7e80f-c60d-4bdb-801b-c93272b8c2c7 button.colab-df-convert');\n",
              "        buttonEl.style.display =\n",
              "          google.colab.kernel.accessAllowed ? 'block' : 'none';\n",
              "\n",
              "        async function convertToInteractive(key) {\n",
              "          const element = document.querySelector('#df-5cc7e80f-c60d-4bdb-801b-c93272b8c2c7');\n",
              "          const dataTable =\n",
              "            await google.colab.kernel.invokeFunction('convertToInteractive',\n",
              "                                                     [key], {});\n",
              "          if (!dataTable) return;\n",
              "\n",
              "          const docLinkHtml = 'Like what you see? Visit the ' +\n",
              "            '<a target=\"_blank\" href=https://colab.research.google.com/notebooks/data_table.ipynb>data table notebook</a>'\n",
              "            + ' to learn more about interactive tables.';\n",
              "          element.innerHTML = '';\n",
              "          dataTable['output_type'] = 'display_data';\n",
              "          await google.colab.output.renderOutput(dataTable, element);\n",
              "          const docLink = document.createElement('div');\n",
              "          docLink.innerHTML = docLinkHtml;\n",
              "          element.appendChild(docLink);\n",
              "        }\n",
              "      </script>\n",
              "    </div>\n",
              "  </div>\n",
              "  "
            ]
          },
          "metadata": {},
          "execution_count": 103
        }
      ]
    },
    {
      "cell_type": "markdown",
      "source": [
        "## Selecting Best Goal_Keeper"
      ],
      "metadata": {
        "id": "RB6OqNMPC-Rr"
      }
    },
    {
      "cell_type": "code",
      "source": [
        "Combine = pd.DataFrame({'Goal_Keeper_1':G_K_1.sum(axis=0),'Goal_Keeper_2':G_K_2.sum(axis=0),'Goal_Keeper_3':G_K_3.sum(axis=0)})"
      ],
      "metadata": {
        "id": "1ZVh6_SJDDDk"
      },
      "execution_count": null,
      "outputs": []
    },
    {
      "cell_type": "code",
      "source": [
        "Combine"
      ],
      "metadata": {
        "colab": {
          "base_uri": "https://localhost:8080/",
          "height": 160
        },
        "id": "4kp1ieNZDfVe",
        "outputId": "587ec18c-fb9c-421e-dbe3-95e0a0931149"
      },
      "execution_count": null,
      "outputs": [
        {
          "output_type": "execute_result",
          "data": {
            "text/plain": [
              "                       Goal_Keeper_1  Goal_Keeper_2  Goal_Keeper_3\n",
              "Total_Goal_Against            1002.0         1221.0         2056.0\n",
              "Total_Save_Goal                701.0          865.0         1461.0\n",
              "Percentage_Goal_saved         1731.5         1482.8         1706.4"
            ],
            "text/html": [
              "\n",
              "  <div id=\"df-e9377eb2-e8ae-4ef6-96d8-669a1203cc57\">\n",
              "    <div class=\"colab-df-container\">\n",
              "      <div>\n",
              "<style scoped>\n",
              "    .dataframe tbody tr th:only-of-type {\n",
              "        vertical-align: middle;\n",
              "    }\n",
              "\n",
              "    .dataframe tbody tr th {\n",
              "        vertical-align: top;\n",
              "    }\n",
              "\n",
              "    .dataframe thead th {\n",
              "        text-align: right;\n",
              "    }\n",
              "</style>\n",
              "<table border=\"1\" class=\"dataframe\">\n",
              "  <thead>\n",
              "    <tr style=\"text-align: right;\">\n",
              "      <th></th>\n",
              "      <th>Goal_Keeper_1</th>\n",
              "      <th>Goal_Keeper_2</th>\n",
              "      <th>Goal_Keeper_3</th>\n",
              "    </tr>\n",
              "  </thead>\n",
              "  <tbody>\n",
              "    <tr>\n",
              "      <th>Total_Goal_Against</th>\n",
              "      <td>1002.0</td>\n",
              "      <td>1221.0</td>\n",
              "      <td>2056.0</td>\n",
              "    </tr>\n",
              "    <tr>\n",
              "      <th>Total_Save_Goal</th>\n",
              "      <td>701.0</td>\n",
              "      <td>865.0</td>\n",
              "      <td>1461.0</td>\n",
              "    </tr>\n",
              "    <tr>\n",
              "      <th>Percentage_Goal_saved</th>\n",
              "      <td>1731.5</td>\n",
              "      <td>1482.8</td>\n",
              "      <td>1706.4</td>\n",
              "    </tr>\n",
              "  </tbody>\n",
              "</table>\n",
              "</div>\n",
              "      <button class=\"colab-df-convert\" onclick=\"convertToInteractive('df-e9377eb2-e8ae-4ef6-96d8-669a1203cc57')\"\n",
              "              title=\"Convert this dataframe to an interactive table.\"\n",
              "              style=\"display:none;\">\n",
              "        \n",
              "  <svg xmlns=\"http://www.w3.org/2000/svg\" height=\"24px\"viewBox=\"0 0 24 24\"\n",
              "       width=\"24px\">\n",
              "    <path d=\"M0 0h24v24H0V0z\" fill=\"none\"/>\n",
              "    <path d=\"M18.56 5.44l.94 2.06.94-2.06 2.06-.94-2.06-.94-.94-2.06-.94 2.06-2.06.94zm-11 1L8.5 8.5l.94-2.06 2.06-.94-2.06-.94L8.5 2.5l-.94 2.06-2.06.94zm10 10l.94 2.06.94-2.06 2.06-.94-2.06-.94-.94-2.06-.94 2.06-2.06.94z\"/><path d=\"M17.41 7.96l-1.37-1.37c-.4-.4-.92-.59-1.43-.59-.52 0-1.04.2-1.43.59L10.3 9.45l-7.72 7.72c-.78.78-.78 2.05 0 2.83L4 21.41c.39.39.9.59 1.41.59.51 0 1.02-.2 1.41-.59l7.78-7.78 2.81-2.81c.8-.78.8-2.07 0-2.86zM5.41 20L4 18.59l7.72-7.72 1.47 1.35L5.41 20z\"/>\n",
              "  </svg>\n",
              "      </button>\n",
              "      \n",
              "  <style>\n",
              "    .colab-df-container {\n",
              "      display:flex;\n",
              "      flex-wrap:wrap;\n",
              "      gap: 12px;\n",
              "    }\n",
              "\n",
              "    .colab-df-convert {\n",
              "      background-color: #E8F0FE;\n",
              "      border: none;\n",
              "      border-radius: 50%;\n",
              "      cursor: pointer;\n",
              "      display: none;\n",
              "      fill: #1967D2;\n",
              "      height: 32px;\n",
              "      padding: 0 0 0 0;\n",
              "      width: 32px;\n",
              "    }\n",
              "\n",
              "    .colab-df-convert:hover {\n",
              "      background-color: #E2EBFA;\n",
              "      box-shadow: 0px 1px 2px rgba(60, 64, 67, 0.3), 0px 1px 3px 1px rgba(60, 64, 67, 0.15);\n",
              "      fill: #174EA6;\n",
              "    }\n",
              "\n",
              "    [theme=dark] .colab-df-convert {\n",
              "      background-color: #3B4455;\n",
              "      fill: #D2E3FC;\n",
              "    }\n",
              "\n",
              "    [theme=dark] .colab-df-convert:hover {\n",
              "      background-color: #434B5C;\n",
              "      box-shadow: 0px 1px 3px 1px rgba(0, 0, 0, 0.15);\n",
              "      filter: drop-shadow(0px 1px 2px rgba(0, 0, 0, 0.3));\n",
              "      fill: #FFFFFF;\n",
              "    }\n",
              "  </style>\n",
              "\n",
              "      <script>\n",
              "        const buttonEl =\n",
              "          document.querySelector('#df-e9377eb2-e8ae-4ef6-96d8-669a1203cc57 button.colab-df-convert');\n",
              "        buttonEl.style.display =\n",
              "          google.colab.kernel.accessAllowed ? 'block' : 'none';\n",
              "\n",
              "        async function convertToInteractive(key) {\n",
              "          const element = document.querySelector('#df-e9377eb2-e8ae-4ef6-96d8-669a1203cc57');\n",
              "          const dataTable =\n",
              "            await google.colab.kernel.invokeFunction('convertToInteractive',\n",
              "                                                     [key], {});\n",
              "          if (!dataTable) return;\n",
              "\n",
              "          const docLinkHtml = 'Like what you see? Visit the ' +\n",
              "            '<a target=\"_blank\" href=https://colab.research.google.com/notebooks/data_table.ipynb>data table notebook</a>'\n",
              "            + ' to learn more about interactive tables.';\n",
              "          element.innerHTML = '';\n",
              "          dataTable['output_type'] = 'display_data';\n",
              "          await google.colab.output.renderOutput(dataTable, element);\n",
              "          const docLink = document.createElement('div');\n",
              "          docLink.innerHTML = docLinkHtml;\n",
              "          element.appendChild(docLink);\n",
              "        }\n",
              "      </script>\n",
              "    </div>\n",
              "  </div>\n",
              "  "
            ]
          },
          "metadata": {},
          "execution_count": 105
        }
      ]
    },
    {
      "cell_type": "code",
      "source": [
        "Combine = Combine.T"
      ],
      "metadata": {
        "id": "CMW_EgF3D4zb"
      },
      "execution_count": null,
      "outputs": []
    },
    {
      "cell_type": "code",
      "source": [
        "Combine['Percentage_Goal_saved']  =  (Combine['Total_Save_Goal']/Combine['Total_Goal_Against'])*100"
      ],
      "metadata": {
        "id": "N4ofFZomECQW"
      },
      "execution_count": null,
      "outputs": []
    },
    {
      "cell_type": "code",
      "source": [
        "Combine"
      ],
      "metadata": {
        "colab": {
          "base_uri": "https://localhost:8080/",
          "height": 160
        },
        "id": "Agj4mtiaEad4",
        "outputId": "68cc34d0-8a48-4016-97e8-e59dcb64b7a7"
      },
      "execution_count": null,
      "outputs": [
        {
          "output_type": "execute_result",
          "data": {
            "text/plain": [
              "               Total_Goal_Against  Total_Save_Goal  Percentage_Goal_saved\n",
              "Goal_Keeper_1              1002.0            701.0              69.960080\n",
              "Goal_Keeper_2              1221.0            865.0              70.843571\n",
              "Goal_Keeper_3              2056.0           1461.0              71.060311"
            ],
            "text/html": [
              "\n",
              "  <div id=\"df-5ac8153c-220b-47ec-ac72-b3e698339ed6\">\n",
              "    <div class=\"colab-df-container\">\n",
              "      <div>\n",
              "<style scoped>\n",
              "    .dataframe tbody tr th:only-of-type {\n",
              "        vertical-align: middle;\n",
              "    }\n",
              "\n",
              "    .dataframe tbody tr th {\n",
              "        vertical-align: top;\n",
              "    }\n",
              "\n",
              "    .dataframe thead th {\n",
              "        text-align: right;\n",
              "    }\n",
              "</style>\n",
              "<table border=\"1\" class=\"dataframe\">\n",
              "  <thead>\n",
              "    <tr style=\"text-align: right;\">\n",
              "      <th></th>\n",
              "      <th>Total_Goal_Against</th>\n",
              "      <th>Total_Save_Goal</th>\n",
              "      <th>Percentage_Goal_saved</th>\n",
              "    </tr>\n",
              "  </thead>\n",
              "  <tbody>\n",
              "    <tr>\n",
              "      <th>Goal_Keeper_1</th>\n",
              "      <td>1002.0</td>\n",
              "      <td>701.0</td>\n",
              "      <td>69.960080</td>\n",
              "    </tr>\n",
              "    <tr>\n",
              "      <th>Goal_Keeper_2</th>\n",
              "      <td>1221.0</td>\n",
              "      <td>865.0</td>\n",
              "      <td>70.843571</td>\n",
              "    </tr>\n",
              "    <tr>\n",
              "      <th>Goal_Keeper_3</th>\n",
              "      <td>2056.0</td>\n",
              "      <td>1461.0</td>\n",
              "      <td>71.060311</td>\n",
              "    </tr>\n",
              "  </tbody>\n",
              "</table>\n",
              "</div>\n",
              "      <button class=\"colab-df-convert\" onclick=\"convertToInteractive('df-5ac8153c-220b-47ec-ac72-b3e698339ed6')\"\n",
              "              title=\"Convert this dataframe to an interactive table.\"\n",
              "              style=\"display:none;\">\n",
              "        \n",
              "  <svg xmlns=\"http://www.w3.org/2000/svg\" height=\"24px\"viewBox=\"0 0 24 24\"\n",
              "       width=\"24px\">\n",
              "    <path d=\"M0 0h24v24H0V0z\" fill=\"none\"/>\n",
              "    <path d=\"M18.56 5.44l.94 2.06.94-2.06 2.06-.94-2.06-.94-.94-2.06-.94 2.06-2.06.94zm-11 1L8.5 8.5l.94-2.06 2.06-.94-2.06-.94L8.5 2.5l-.94 2.06-2.06.94zm10 10l.94 2.06.94-2.06 2.06-.94-2.06-.94-.94-2.06-.94 2.06-2.06.94z\"/><path d=\"M17.41 7.96l-1.37-1.37c-.4-.4-.92-.59-1.43-.59-.52 0-1.04.2-1.43.59L10.3 9.45l-7.72 7.72c-.78.78-.78 2.05 0 2.83L4 21.41c.39.39.9.59 1.41.59.51 0 1.02-.2 1.41-.59l7.78-7.78 2.81-2.81c.8-.78.8-2.07 0-2.86zM5.41 20L4 18.59l7.72-7.72 1.47 1.35L5.41 20z\"/>\n",
              "  </svg>\n",
              "      </button>\n",
              "      \n",
              "  <style>\n",
              "    .colab-df-container {\n",
              "      display:flex;\n",
              "      flex-wrap:wrap;\n",
              "      gap: 12px;\n",
              "    }\n",
              "\n",
              "    .colab-df-convert {\n",
              "      background-color: #E8F0FE;\n",
              "      border: none;\n",
              "      border-radius: 50%;\n",
              "      cursor: pointer;\n",
              "      display: none;\n",
              "      fill: #1967D2;\n",
              "      height: 32px;\n",
              "      padding: 0 0 0 0;\n",
              "      width: 32px;\n",
              "    }\n",
              "\n",
              "    .colab-df-convert:hover {\n",
              "      background-color: #E2EBFA;\n",
              "      box-shadow: 0px 1px 2px rgba(60, 64, 67, 0.3), 0px 1px 3px 1px rgba(60, 64, 67, 0.15);\n",
              "      fill: #174EA6;\n",
              "    }\n",
              "\n",
              "    [theme=dark] .colab-df-convert {\n",
              "      background-color: #3B4455;\n",
              "      fill: #D2E3FC;\n",
              "    }\n",
              "\n",
              "    [theme=dark] .colab-df-convert:hover {\n",
              "      background-color: #434B5C;\n",
              "      box-shadow: 0px 1px 3px 1px rgba(0, 0, 0, 0.15);\n",
              "      filter: drop-shadow(0px 1px 2px rgba(0, 0, 0, 0.3));\n",
              "      fill: #FFFFFF;\n",
              "    }\n",
              "  </style>\n",
              "\n",
              "      <script>\n",
              "        const buttonEl =\n",
              "          document.querySelector('#df-5ac8153c-220b-47ec-ac72-b3e698339ed6 button.colab-df-convert');\n",
              "        buttonEl.style.display =\n",
              "          google.colab.kernel.accessAllowed ? 'block' : 'none';\n",
              "\n",
              "        async function convertToInteractive(key) {\n",
              "          const element = document.querySelector('#df-5ac8153c-220b-47ec-ac72-b3e698339ed6');\n",
              "          const dataTable =\n",
              "            await google.colab.kernel.invokeFunction('convertToInteractive',\n",
              "                                                     [key], {});\n",
              "          if (!dataTable) return;\n",
              "\n",
              "          const docLinkHtml = 'Like what you see? Visit the ' +\n",
              "            '<a target=\"_blank\" href=https://colab.research.google.com/notebooks/data_table.ipynb>data table notebook</a>'\n",
              "            + ' to learn more about interactive tables.';\n",
              "          element.innerHTML = '';\n",
              "          dataTable['output_type'] = 'display_data';\n",
              "          await google.colab.output.renderOutput(dataTable, element);\n",
              "          const docLink = document.createElement('div');\n",
              "          docLink.innerHTML = docLinkHtml;\n",
              "          element.appendChild(docLink);\n",
              "        }\n",
              "      </script>\n",
              "    </div>\n",
              "  </div>\n",
              "  "
            ]
          },
          "metadata": {},
          "execution_count": 111
        }
      ]
    },
    {
      "cell_type": "markdown",
      "source": [
        "Sine all the players have approximately same percentage of saved of goal , so we do not choose on this way"
      ],
      "metadata": {
        "id": "K8l3cga-GVY0"
      }
    },
    {
      "cell_type": "markdown",
      "source": [
        "Now , we see which player have good record while playing with manchester city and having highest number of match played for manchester city"
      ],
      "metadata": {
        "id": "neTQ4cZFGiLJ"
      }
    },
    {
      "cell_type": "markdown",
      "source": [
        "For Manchester :\n",
        "\n",
        "    Ederson : 288 matched play\n",
        "    Stefan Ortega : 13 matched play\n",
        "    Scott Carson : 2 matched Play"
      ],
      "metadata": {
        "id": "OrtVJU4mHlCf"
      }
    },
    {
      "cell_type": "markdown",
      "source": [
        "Conclusion:\n",
        "\n",
        "      Out of all Goal keeper Ederson played more matches for Manchester city than Other player.\n",
        "\n",
        "      So , For Manchester the best Goal_Keeper can be Ederson"
      ],
      "metadata": {
        "id": "5EOCiLV5IT0f"
      }
    }
  ]
}